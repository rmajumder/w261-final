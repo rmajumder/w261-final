{
 "cells": [
  {
   "cell_type": "markdown",
   "metadata": {},
   "source": [
    "# w261 Final Project - Clickthrough Rate Prediction\n"
   ]
  },
  {
   "cell_type": "markdown",
   "metadata": {},
   "source": [
    "Team Members - Arjun, Harith, Rishi, Tej  \n",
    "Summer 2019, Section 5   "
   ]
  },
  {
   "cell_type": "markdown",
   "metadata": {},
   "source": [
    "## Table of Contents\n",
    "\n",
    "* __Section 1__ - Question Formulation\n",
    "* __Section 2__ - Algorithm Explanation\n",
    "* __Section 3__ - EDA & Challenges\n",
    "* __Section 4__ - Algorithm Implementation\n",
    "* __Section 5__ - Course Concepts"
   ]
  },
  {
   "cell_type": "markdown",
   "metadata": {},
   "source": [
    "# __Section 1__ - Question Formulation"
   ]
  },
  {
   "cell_type": "markdown",
   "metadata": {},
   "source": [
    "Today, online advertising is a billion dollars industry. In the US alone, more than 100 billion dollars was spent on online advertising in 2018. In the last decade, online advertising has also evolved from a primitive impression campaign, or pay per impression, to pay per click model. In this Pay-per-click policy, an advertiser has to pay for only those ads which have some clicks on them. Therefore it is essential for companies such as Google, Facebook, and many advertisement agencies to improve and optimize their click-through rate (CTR). In this new model, advertisement agencies goal is not only limited to avoid irrelevant and false impressions but also to present the user with the Ad that is believed to have the highest click propensity.\n",
    "\n",
    "In this project, we're presented with a CTR dataset from Criteo. Criteo is a personalized retargeting company that works with Internet retailers to serve personalized online display advertisements to consumers who have previously visited the advertiser's website. Criteo is sharing week's worth of data, over 45M records of traffic logs, to help develop models predicting ad click-through rate (CTR). The dataset is very large, consisting of 11GB of training and 1.5GBB of test data. Each record consists of 40 features, 13 of which are numerical and 26 are categorical features. The values of these features have been hashed onto 32 bits for anonymization purposes. It is unclear to us what these features correspond to, but we can guess that they're related to the user, publisher and advertiser features.\n",
    "\n",
    "In this project, the team will present a machine learning framework based on Logistic Regression. Logistic regression is a machine learning classification algorithm that is used to predict the probability of a dependent variable. For Criteo CTR data, this dependent variable is label - a target variable that indicates if an ad was clicked (1) or not (0). Logistic regression works well with a very large dataset, which applies to us; therefore, we believe logistic regression is a perfect match to this problem. We will use Criteo training dataset to build a logistic regression model that can tell us the probability of a user clicking for a given ad. We will also be able to identify the list of features that have the highest impact in influencing the click decision.\n",
    "\n",
    "Step 0 is to analyze the data in our hands. This includes exploration of possible correlations between features, data cleaning, and preparing the data for machine learning, such as one-hot encoding.\n",
    "\n",
    "---TODO:\n",
    "\n",
    "Challenges?\n",
    "\n",
    "size of the data.\n",
    "scalability"
   ]
  },
  {
   "cell_type": "markdown",
   "metadata": {},
   "source": [
    "# __Section 2__ - Algorithm Explanation"
   ]
  },
  {
   "cell_type": "markdown",
   "metadata": {},
   "source": [
    "Logistic regression initializes a set of constants in the model parameter space. It then uses the errors of the expected values of the outputs using these constants to provide feedback on and update the constants. The cost function provides feedback on the progress of the algorithm with each iteration. One should expect a decrease in the loss function over time.\n",
    "\n",
    "### Section 2.1 - Evaluation Function\n",
    "\n",
    "The evaluation function for logistic regression is:\n",
    "\n",
    "\n",
    "S(z) = $\\frac{1} {1 + e^{-z}}$\n",
    "\n",
    "where z is a linear combination of the features. This results in a curve for the cost function as follows:\n",
    "\n",
    "<img src='images/logisticcost.png'>\n",
    "\n",
    "This loss function is convex, so gradient descent can be used to arrive at a minimum loss provided we have a small enough learning rate.  \n",
    "\n",
    "### Section 2.2 - Loss Function\n",
    "\n",
    "The loss function for logistic regression is:\n",
    "\n",
    "Loss = $1/n*(-y^T*log(h)-(1-y)^T*log(1-h))$\n",
    "\n",
    "Each step of the algorithm decreases the loss and brings the model a little closer to the optimal model based on the training data.\n",
    "\n",
    "Initial Table:\n",
    "\n",
    "<table>\n",
    "<th>Name</th>\n",
    "<th>Click</th>\n",
    "<th>Feature1</th>\n",
    "<th>Feature2</th>\n",
    "<tr><td>'firstad.png'</td><td>1</td><td>20</td><td>1</td></tr>\n",
    "<tr><td>'secondad.png'</td><td>1</td><td>10</td><td>5</td></tr>\n",
    "<tr><td>'firstad.png'</td><td>1</td><td>15</td><td>4</td></tr>\n",
    "<tr><td>'thirdad.png'</td><td>0</td><td>12</td><td>2</td></tr>\n",
    "<tr><td>'firstad.png'</td><td>0</td><td>30</td><td>1</td></tr>    \n",
    "</table>\n",
    "\n",
    "After Encoding:\n",
    "\n",
    "<table>\n",
    "<th>Name</th>\n",
    "<th>Click</th>\n",
    "<th>Feature1</th>\n",
    "<th>Feature2</th>\n",
    "<tr><td>0.0</td><td>1</td><td>20</td><td>1</td></tr>\n",
    "<tr><td>1.0</td><td>1</td><td>10</td><td>5</td></tr>\n",
    "<tr><td>0.0</td><td>1</td><td>15</td><td>4</td></tr>\n",
    "<tr><td>3.0</td><td>0</td><td>12</td><td>2</td></tr>\n",
    "<tr><td>0.0</td><td>0</td><td>30</td><td>1</td></tr>    \n",
    "</table>\n",
    "\n",
    "After Standard Scaler\n",
    "\n",
    "<table>\n",
    "<th>Name</th>\n",
    "<th>Click</th>\n",
    "<th>Feature1</th>\n",
    "<th>Feature2</th>\n",
    "<tr><td>0.0</td><td>1</td><td>2/3</td><td>1/5</td></tr>\n",
    "<tr><td>0.33</td><td>1</td><td>1/3</td><td>1</td></tr>\n",
    "<tr><td>0.0</td><td>1</td><td>1/2</td><td>4/5</td></tr>\n",
    "<tr><td>1.0</td><td>0</td><td>4/10</td><td>2/5</td></tr>\n",
    "<tr><td>0.0</td><td>0</td><td>1</td><td>1/5</td></tr>    \n",
    "</table>\n",
    "\n",
    "\n",
    "### Section 2.3 - Algorithm Demonstration\n",
    "\n",
    "\n",
    "#### Iteration 1:\n",
    "\n",
    "Coefficient Matrix:\n",
    "\n",
    "<table>\n",
    "<th>Feature</th>\n",
    "<th>Value</th>\n",
    "<tr><td>1</td><td>1</td>\n",
    "<tr><td>2</td><td>1</td>\n",
    "</table>\n",
    "\n",
    "Expected Output:\n",
    "\n",
    "\n",
    "<table>\n",
    "<th>Name</th>\n",
    "<th>Click</th>\n",
    "<th>Feature1</th>\n",
    "<th>Feature2</th>\n",
    "<th>Expected Output</th>\n",
    "<tr><td>0.0</td><td>1</td><td>2/3</td><td>1/5</td><td>0.7040516276171624\n",
    "</td></tr>\n",
    "<tr><td>0.33</td><td>1</td><td>1/3</td><td>1</td><td>0.791391472673955</td></tr>\n",
    "<tr><td>0.0</td><td>1</td><td>1/2</td><td>4/5</td><td>0.7858130361180986</td></tr>\n",
    "<tr><td>1.0</td><td>0</td><td>4/10</td><td>2/5</td><td>0.6899744811276125</td></tr>\n",
    "<tr><td>0.0</td><td>0</td><td>1</td><td>1/5</td><td>0.7685247834990175</td></tr>    \n",
    "</table>\n",
    "\n",
    "Cost:\n",
    "\n",
    "Cost = $1/5*(-log(0.7040516276171624)-log(0.791391472673955)-log(0.7858130361180986)-log(1-0.6899744811276125)-log(1-0.7685247834990175))=0.7513815715024391$\n",
    "\n",
    "\n",
    "Update:\n",
    "\n",
    "alpha=0.25\n",
    "\n",
    "c_feature1=1+1/5*0.25*((1-0.704)*(0.704)*(1-0.704)*2/3+(1-0.791)*(0.791)*(1-0.791)*1/3+(1-0.786)*(0.786)*(1-0.786)*1/2+(0-0.769)*(0.769)*(1-0.769)*4/10+(0-0.769)*(0.769)*(1-0.769)*1)=0.9997587800272\n",
    "<br>\n",
    "c_feature2=1+1/5*0.25*((1-0.704)*(0.704)*(1-0.704)*1/5+(1-0.791)*(0.791)*(1-0.791)*1+(1-0.786)*(0.786)*(1-0.786)*4/5+(0-0.769)*(0.769)*(1-0.769)*2/5+(0-0.769)*(0.769)*(1-0.769)*1/5)=0.999987443788\n",
    "\n",
    "\n",
    "#### Iteration 2:\n",
    "\n",
    "Coefficient Matrix:\n",
    "\n",
    "<table>\n",
    "<th>Feature</th>\n",
    "<th>Value</th>\n",
    "<tr><td>1</td><td>0.99976</td>\n",
    "<tr><td>2</td><td>0.999987</td>\n",
    "</table>\n",
    "\n",
    "Expected Output:\n",
    "\n",
    "<table>\n",
    "<th>Name</th>\n",
    "<th>Click</th>\n",
    "<th>Feature1</th>\n",
    "<th>Feature2</th>\n",
    "<th>Expected Output</th>\n",
    "<tr><td>0.0</td><td>1</td><td>2/3</td><td>1/5</td><td>0.7040177466801593</td></tr>\n",
    "<tr><td>0.33</td><td>1</td><td>1/3</td><td>1</td><td>0.7913761187939874</td></tr>\n",
    "<tr><td>0.0</td><td>1</td><td>1/2</td><td>4/5</td><td>0.7858349830425586</td></tr>\n",
    "<tr><td>1.0</td><td>0</td><td>4/10</td><td>2/5</td><td>0.6899528330501498</td></tr>\n",
    "<tr><td>0.0</td><td>0</td><td>1</td><td>1/5</td><td>0.7684816234963084</td></tr>    \n",
    "</table>\n",
    "\n",
    "Cost:\n",
    "\n",
    "Cost = $1/5*(-log(0.7040516276171624)-log(0.791391472673955)-log(0.7858130361180986)-log(1-0.6899744811276125)-log(1-0.7685247834990175))=0.6920571263149928$\n"
   ]
  },
  {
   "cell_type": "markdown",
   "metadata": {},
   "source": [
    "#### LogisticRegression"
   ]
  },
  {
   "cell_type": "markdown",
   "metadata": {},
   "source": [
    "#### RandomForest"
   ]
  },
  {
   "cell_type": "markdown",
   "metadata": {},
   "source": [
    "#### GradientBoosting"
   ]
  },
  {
   "cell_type": "markdown",
   "metadata": {},
   "source": [
    "#### LinearSVC"
   ]
  },
  {
   "cell_type": "markdown",
   "metadata": {},
   "source": [
    "# __Section 3__ - EDA & Challenges"
   ]
  },
  {
   "cell_type": "markdown",
   "metadata": {},
   "source": [
    "### Section 3.1 - Libraries and Util Functions"
   ]
  },
  {
   "cell_type": "markdown",
   "metadata": {},
   "source": [
    "#### Section 3.1.1 - Import Libraries"
   ]
  },
  {
   "cell_type": "code",
   "execution_count": 3,
   "metadata": {},
   "outputs": [],
   "source": [
    "import numpy as np\n",
    "import pandas as pd\n",
    "import seaborn as sns\n",
    "import networkx as nx\n",
    "import matplotlib.pyplot as plt\n",
    "import time\n",
    "from IPython.display import Image\n",
    "\n",
    "from pyspark.ml import Pipeline\n",
    "from pyspark.ml.classification import LogisticRegression\n",
    "from pyspark.sql.functions import when  \n",
    "from pyspark.ml.feature import OneHotEncoderEstimator, StringIndexer, VectorAssembler\n",
    "from pyspark.ml.feature import StandardScaler\n",
    "from pyspark.ml.feature import ChiSqSelector\n",
    "from pyspark.ml.evaluation import BinaryClassificationEvaluator\n",
    "from pyspark.ml.tuning import ParamGridBuilder, CrossValidator\n",
    "from pyspark.ml.classification import RandomForestClassifier\n",
    "from pyspark.ml.classification import GBTClassifier\n",
    "from pyspark.sql.functions import lit\n",
    "from pyspark.ml.classification import LinearSVC\n",
    "from pyspark.ml.classification import MultilayerPerceptronClassifier\n",
    "from pyspark.ml.evaluation import MulticlassClassificationEvaluator\n",
    "from pyspark.sql.functions import monotonically_increasing_id\n",
    "\n",
    "from pyspark.sql import SparkSession\n",
    "from pyspark.conf import SparkConf"
   ]
  },
  {
   "cell_type": "markdown",
   "metadata": {},
   "source": [
    "#### Section 3.1.2 - Create Spark Context"
   ]
  },
  {
   "cell_type": "code",
   "execution_count": 5,
   "metadata": {},
   "outputs": [],
   "source": [
    "# start Spark Session\n",
    "sc_conf = SparkConf()\n",
    "sc_conf.setAppName(\"w261_final_project\")\n",
    "\n",
    "spark = SparkSession\\\n",
    "        .builder\\\n",
    "        .config(conf=sc_conf)\\\n",
    "        .getOrCreate()\n",
    "    \n",
    "sc = spark.sparkContext"
   ]
  },
  {
   "cell_type": "markdown",
   "metadata": {},
   "source": [
    "#### Section 3.1.3 - Util Functions"
   ]
  },
  {
   "cell_type": "code",
   "execution_count": null,
   "metadata": {},
   "outputs": [],
   "source": [
    "#Fill missing values - numerical\n",
    "def fill_missing_val(t_data):    \n",
    "    return t_data.na.fill(0)\n",
    "\n",
    "#Get numeric and categorical columns\n",
    "def get_columns():\n",
    "    num_cols = []\n",
    "    cat_cols = []\n",
    "    \n",
    "    #Numerical columns range from column index 2-13\n",
    "    for c in range(2, 14):\n",
    "        num_cols.append(\"_\" + str(c))\n",
    "    \n",
    "    #Categorical columns range from column index 14-40\n",
    "    for c in range(14, 41):\n",
    "        cat_cols.append(\"_\" + str(c))\n",
    "    \n",
    "    return num_cols, cat_cols"
   ]
  },
  {
   "cell_type": "markdown",
   "metadata": {},
   "source": [
    "### Section 3.1 - Load and Visualize Data"
   ]
  },
  {
   "cell_type": "markdown",
   "metadata": {},
   "source": [
    "#### Section 3.1.1 - Inspect Raw Data"
   ]
  },
  {
   "cell_type": "code",
   "execution_count": 10,
   "metadata": {},
   "outputs": [
    {
     "name": "stdout",
     "output_type": "stream",
     "text": [
      "root\n",
      " |-- _1: integer (nullable = true)\n",
      " |-- _2: integer (nullable = true)\n",
      " |-- _3: integer (nullable = true)\n",
      " |-- _4: integer (nullable = true)\n",
      " |-- _5: integer (nullable = true)\n",
      " |-- _6: integer (nullable = true)\n",
      " |-- _7: integer (nullable = true)\n",
      " |-- _8: integer (nullable = true)\n",
      " |-- _9: integer (nullable = true)\n",
      " |-- _10: integer (nullable = true)\n",
      " |-- _11: integer (nullable = true)\n",
      " |-- _12: integer (nullable = true)\n",
      " |-- _13: integer (nullable = true)\n",
      " |-- _14: integer (nullable = true)\n",
      " |-- _15: string (nullable = true)\n",
      " |-- _16: string (nullable = true)\n",
      " |-- _17: string (nullable = true)\n",
      " |-- _18: string (nullable = true)\n",
      " |-- _19: string (nullable = true)\n",
      " |-- _20: string (nullable = true)\n",
      " |-- _21: string (nullable = true)\n",
      " |-- _22: string (nullable = true)\n",
      " |-- _23: string (nullable = true)\n",
      " |-- _24: string (nullable = true)\n",
      " |-- _25: string (nullable = true)\n",
      " |-- _26: string (nullable = true)\n",
      " |-- _27: string (nullable = true)\n",
      " |-- _28: string (nullable = true)\n",
      " |-- _29: string (nullable = true)\n",
      " |-- _30: string (nullable = true)\n",
      " |-- _31: string (nullable = true)\n",
      " |-- _32: string (nullable = true)\n",
      " |-- _33: string (nullable = true)\n",
      " |-- _34: string (nullable = true)\n",
      " |-- _35: string (nullable = true)\n",
      " |-- _36: string (nullable = true)\n",
      " |-- _37: string (nullable = true)\n",
      " |-- _38: string (nullable = true)\n",
      " |-- _39: string (nullable = true)\n",
      " |-- _40: string (nullable = true)\n",
      "\n"
     ]
    }
   ],
   "source": [
    "df = spark.read.csv('data/dac/train.small.csv', header = True, inferSchema = True)\n",
    "df.printSchema()"
   ]
  },
  {
   "cell_type": "code",
   "execution_count": 11,
   "metadata": {},
   "outputs": [],
   "source": [
    "#Store the original columns\n",
    "cols = df.columns"
   ]
  },
  {
   "cell_type": "code",
   "execution_count": 12,
   "metadata": {},
   "outputs": [
    {
     "data": {
      "text/html": [
       "<div>\n",
       "<style scoped>\n",
       "    .dataframe tbody tr th:only-of-type {\n",
       "        vertical-align: middle;\n",
       "    }\n",
       "\n",
       "    .dataframe tbody tr th {\n",
       "        vertical-align: top;\n",
       "    }\n",
       "\n",
       "    .dataframe thead th {\n",
       "        text-align: right;\n",
       "    }\n",
       "</style>\n",
       "<table border=\"1\" class=\"dataframe\">\n",
       "  <thead>\n",
       "    <tr style=\"text-align: right;\">\n",
       "      <th></th>\n",
       "      <th>0</th>\n",
       "      <th>1</th>\n",
       "      <th>2</th>\n",
       "      <th>3</th>\n",
       "      <th>4</th>\n",
       "    </tr>\n",
       "  </thead>\n",
       "  <tbody>\n",
       "    <tr>\n",
       "      <th>_1</th>\n",
       "      <td>0</td>\n",
       "      <td>0</td>\n",
       "      <td>1</td>\n",
       "      <td>0</td>\n",
       "      <td>0</td>\n",
       "    </tr>\n",
       "    <tr>\n",
       "      <th>_2</th>\n",
       "      <td>0</td>\n",
       "      <td>0</td>\n",
       "      <td>NaN</td>\n",
       "      <td>NaN</td>\n",
       "      <td>4</td>\n",
       "    </tr>\n",
       "    <tr>\n",
       "      <th>_3</th>\n",
       "      <td>0</td>\n",
       "      <td>8</td>\n",
       "      <td>1</td>\n",
       "      <td>-1</td>\n",
       "      <td>64</td>\n",
       "    </tr>\n",
       "    <tr>\n",
       "      <th>_4</th>\n",
       "      <td>2</td>\n",
       "      <td>NaN</td>\n",
       "      <td>3</td>\n",
       "      <td>NaN</td>\n",
       "      <td>4</td>\n",
       "    </tr>\n",
       "    <tr>\n",
       "      <th>_5</th>\n",
       "      <td>9</td>\n",
       "      <td>NaN</td>\n",
       "      <td>20</td>\n",
       "      <td>NaN</td>\n",
       "      <td>2</td>\n",
       "    </tr>\n",
       "    <tr>\n",
       "      <th>_6</th>\n",
       "      <td>1366</td>\n",
       "      <td>4910</td>\n",
       "      <td>17647</td>\n",
       "      <td>311637</td>\n",
       "      <td>1490</td>\n",
       "    </tr>\n",
       "    <tr>\n",
       "      <th>_7</th>\n",
       "      <td>316</td>\n",
       "      <td>NaN</td>\n",
       "      <td>30</td>\n",
       "      <td>NaN</td>\n",
       "      <td>50</td>\n",
       "    </tr>\n",
       "    <tr>\n",
       "      <th>_8</th>\n",
       "      <td>24</td>\n",
       "      <td>NaN</td>\n",
       "      <td>1</td>\n",
       "      <td>0</td>\n",
       "      <td>6</td>\n",
       "    </tr>\n",
       "    <tr>\n",
       "      <th>_9</th>\n",
       "      <td>47</td>\n",
       "      <td>8</td>\n",
       "      <td>1</td>\n",
       "      <td>0</td>\n",
       "      <td>12</td>\n",
       "    </tr>\n",
       "    <tr>\n",
       "      <th>_10</th>\n",
       "      <td>350</td>\n",
       "      <td>NaN</td>\n",
       "      <td>30</td>\n",
       "      <td>1</td>\n",
       "      <td>27</td>\n",
       "    </tr>\n",
       "    <tr>\n",
       "      <th>_11</th>\n",
       "      <td>0</td>\n",
       "      <td>0</td>\n",
       "      <td>NaN</td>\n",
       "      <td>NaN</td>\n",
       "      <td>0</td>\n",
       "    </tr>\n",
       "    <tr>\n",
       "      <th>_12</th>\n",
       "      <td>3</td>\n",
       "      <td>NaN</td>\n",
       "      <td>1</td>\n",
       "      <td>0</td>\n",
       "      <td>1</td>\n",
       "    </tr>\n",
       "    <tr>\n",
       "      <th>_13</th>\n",
       "      <td>0</td>\n",
       "      <td>NaN</td>\n",
       "      <td>NaN</td>\n",
       "      <td>NaN</td>\n",
       "      <td>NaN</td>\n",
       "    </tr>\n",
       "    <tr>\n",
       "      <th>_14</th>\n",
       "      <td>9</td>\n",
       "      <td>NaN</td>\n",
       "      <td>20</td>\n",
       "      <td>NaN</td>\n",
       "      <td>2</td>\n",
       "    </tr>\n",
       "    <tr>\n",
       "      <th>_15</th>\n",
       "      <td>05db9164</td>\n",
       "      <td>05db9164</td>\n",
       "      <td>05db9164</td>\n",
       "      <td>3c9d8785</td>\n",
       "      <td>05db9164</td>\n",
       "    </tr>\n",
       "    <tr>\n",
       "      <th>_16</th>\n",
       "      <td>064c8f31</td>\n",
       "      <td>95e2d337</td>\n",
       "      <td>f0cf0024</td>\n",
       "      <td>38a947a1</td>\n",
       "      <td>39dfaa0d</td>\n",
       "    </tr>\n",
       "    <tr>\n",
       "      <th>_17</th>\n",
       "      <td>ee9dd06a</td>\n",
       "      <td>a0f84563</td>\n",
       "      <td>98d504db</td>\n",
       "      <td>2ef73c34</td>\n",
       "      <td>ae06bf90</td>\n",
       "    </tr>\n",
       "    <tr>\n",
       "      <th>_18</th>\n",
       "      <td>ecd34703</td>\n",
       "      <td>4ee155c9</td>\n",
       "      <td>dab52c65</td>\n",
       "      <td>cf21074e</td>\n",
       "      <td>b125f81c</td>\n",
       "    </tr>\n",
       "    <tr>\n",
       "      <th>_19</th>\n",
       "      <td>25c83c98</td>\n",
       "      <td>25c83c98</td>\n",
       "      <td>25c83c98</td>\n",
       "      <td>25c83c98</td>\n",
       "      <td>25c83c98</td>\n",
       "    </tr>\n",
       "    <tr>\n",
       "      <th>_20</th>\n",
       "      <td>7e0ccccf</td>\n",
       "      <td>3bf701e7</td>\n",
       "      <td>fbad5c96</td>\n",
       "      <td>fbad5c96</td>\n",
       "      <td>fbad5c96</td>\n",
       "    </tr>\n",
       "    <tr>\n",
       "      <th>_21</th>\n",
       "      <td>2e8a689b</td>\n",
       "      <td>d252d044</td>\n",
       "      <td>457fd078</td>\n",
       "      <td>91282309</td>\n",
       "      <td>753aa291</td>\n",
       "    </tr>\n",
       "    <tr>\n",
       "      <th>_22</th>\n",
       "      <td>062b5529</td>\n",
       "      <td>37e4aa92</td>\n",
       "      <td>0b153874</td>\n",
       "      <td>5b392875</td>\n",
       "      <td>1f89b562</td>\n",
       "    </tr>\n",
       "    <tr>\n",
       "      <th>_23</th>\n",
       "      <td>a73ee510</td>\n",
       "      <td>a73ee510</td>\n",
       "      <td>a73ee510</td>\n",
       "      <td>7cc72ec2</td>\n",
       "      <td>a73ee510</td>\n",
       "    </tr>\n",
       "    <tr>\n",
       "      <th>_24</th>\n",
       "      <td>efea433b</td>\n",
       "      <td>7b136229</td>\n",
       "      <td>711ec2bc</td>\n",
       "      <td>6f0d561c</td>\n",
       "      <td>a384f95f</td>\n",
       "    </tr>\n",
       "    <tr>\n",
       "      <th>_25</th>\n",
       "      <td>e51ddf94</td>\n",
       "      <td>efbc225d</td>\n",
       "      <td>5f2b6964</td>\n",
       "      <td>9e511730</td>\n",
       "      <td>d20ffd8f</td>\n",
       "    </tr>\n",
       "    <tr>\n",
       "      <th>_26</th>\n",
       "      <td>ca0011c3</td>\n",
       "      <td>f244ab92</td>\n",
       "      <td>7e014e7c</td>\n",
       "      <td>3c27afbf</td>\n",
       "      <td>c15e7f3e</td>\n",
       "    </tr>\n",
       "    <tr>\n",
       "      <th>_27</th>\n",
       "      <td>3516f6e6</td>\n",
       "      <td>9da67560</td>\n",
       "      <td>7a36be10</td>\n",
       "      <td>04e4a7e0</td>\n",
       "      <td>6619af2b</td>\n",
       "    </tr>\n",
       "    <tr>\n",
       "      <th>_28</th>\n",
       "      <td>07d13a8f</td>\n",
       "      <td>07d13a8f</td>\n",
       "      <td>07d13a8f</td>\n",
       "      <td>f862f261</td>\n",
       "      <td>1adce6ef</td>\n",
       "    </tr>\n",
       "    <tr>\n",
       "      <th>_29</th>\n",
       "      <td>f8aab0bc</td>\n",
       "      <td>4e505ea3</td>\n",
       "      <td>d2988321</td>\n",
       "      <td>f336fea0</td>\n",
       "      <td>a9a633a3</td>\n",
       "    </tr>\n",
       "    <tr>\n",
       "      <th>_30</th>\n",
       "      <td>88aba84c</td>\n",
       "      <td>337414b8</td>\n",
       "      <td>a1614abe</td>\n",
       "      <td>4a38bc4a</td>\n",
       "      <td>98334731</td>\n",
       "    </tr>\n",
       "    <tr>\n",
       "      <th>_31</th>\n",
       "      <td>27c07bd6</td>\n",
       "      <td>e5ba7672</td>\n",
       "      <td>3486227d</td>\n",
       "      <td>3486227d</td>\n",
       "      <td>e5ba7672</td>\n",
       "    </tr>\n",
       "    <tr>\n",
       "      <th>_32</th>\n",
       "      <td>3987fb8a</td>\n",
       "      <td>7b06fafe</td>\n",
       "      <td>88b0e440</td>\n",
       "      <td>d3f6d5f7</td>\n",
       "      <td>75edcf1f</td>\n",
       "    </tr>\n",
       "    <tr>\n",
       "      <th>_33</th>\n",
       "      <td>21ddcdc9</td>\n",
       "      <td>85684dc0</td>\n",
       "      <td>21ddcdc9</td>\n",
       "      <td>None</td>\n",
       "      <td>21ddcdc9</td>\n",
       "    </tr>\n",
       "    <tr>\n",
       "      <th>_34</th>\n",
       "      <td>a458ea53</td>\n",
       "      <td>5840adea</td>\n",
       "      <td>5840adea</td>\n",
       "      <td>None</td>\n",
       "      <td>5840adea</td>\n",
       "    </tr>\n",
       "    <tr>\n",
       "      <th>_35</th>\n",
       "      <td>9376d3ac</td>\n",
       "      <td>49f11974</td>\n",
       "      <td>0e51cc30</td>\n",
       "      <td>63870616</td>\n",
       "      <td>845453b6</td>\n",
       "    </tr>\n",
       "    <tr>\n",
       "      <th>_36</th>\n",
       "      <td>None</td>\n",
       "      <td>None</td>\n",
       "      <td>None</td>\n",
       "      <td>None</td>\n",
       "      <td>None</td>\n",
       "    </tr>\n",
       "    <tr>\n",
       "      <th>_37</th>\n",
       "      <td>32c7478e</td>\n",
       "      <td>32c7478e</td>\n",
       "      <td>32c7478e</td>\n",
       "      <td>55dd3565</td>\n",
       "      <td>3a171ecb</td>\n",
       "    </tr>\n",
       "    <tr>\n",
       "      <th>_38</th>\n",
       "      <td>ad65a526</td>\n",
       "      <td>f86b306c</td>\n",
       "      <td>6c1cdd05</td>\n",
       "      <td>1793a828</td>\n",
       "      <td>ce327ac7</td>\n",
       "    </tr>\n",
       "    <tr>\n",
       "      <th>_39</th>\n",
       "      <td>001f3601</td>\n",
       "      <td>2bf691b1</td>\n",
       "      <td>ea9a246c</td>\n",
       "      <td>None</td>\n",
       "      <td>e8b83407</td>\n",
       "    </tr>\n",
       "    <tr>\n",
       "      <th>_40</th>\n",
       "      <td>2fede552</td>\n",
       "      <td>607ab79a</td>\n",
       "      <td>7e6f9939</td>\n",
       "      <td>None</td>\n",
       "      <td>09dd415c</td>\n",
       "    </tr>\n",
       "  </tbody>\n",
       "</table>\n",
       "</div>"
      ],
      "text/plain": [
       "            0         1         2         3         4\n",
       "_1          0         0         1         0         0\n",
       "_2          0         0       NaN       NaN         4\n",
       "_3          0         8         1        -1        64\n",
       "_4          2       NaN         3       NaN         4\n",
       "_5          9       NaN        20       NaN         2\n",
       "_6       1366      4910     17647    311637      1490\n",
       "_7        316       NaN        30       NaN        50\n",
       "_8         24       NaN         1         0         6\n",
       "_9         47         8         1         0        12\n",
       "_10       350       NaN        30         1        27\n",
       "_11         0         0       NaN       NaN         0\n",
       "_12         3       NaN         1         0         1\n",
       "_13         0       NaN       NaN       NaN       NaN\n",
       "_14         9       NaN        20       NaN         2\n",
       "_15  05db9164  05db9164  05db9164  3c9d8785  05db9164\n",
       "_16  064c8f31  95e2d337  f0cf0024  38a947a1  39dfaa0d\n",
       "_17  ee9dd06a  a0f84563  98d504db  2ef73c34  ae06bf90\n",
       "_18  ecd34703  4ee155c9  dab52c65  cf21074e  b125f81c\n",
       "_19  25c83c98  25c83c98  25c83c98  25c83c98  25c83c98\n",
       "_20  7e0ccccf  3bf701e7  fbad5c96  fbad5c96  fbad5c96\n",
       "_21  2e8a689b  d252d044  457fd078  91282309  753aa291\n",
       "_22  062b5529  37e4aa92  0b153874  5b392875  1f89b562\n",
       "_23  a73ee510  a73ee510  a73ee510  7cc72ec2  a73ee510\n",
       "_24  efea433b  7b136229  711ec2bc  6f0d561c  a384f95f\n",
       "_25  e51ddf94  efbc225d  5f2b6964  9e511730  d20ffd8f\n",
       "_26  ca0011c3  f244ab92  7e014e7c  3c27afbf  c15e7f3e\n",
       "_27  3516f6e6  9da67560  7a36be10  04e4a7e0  6619af2b\n",
       "_28  07d13a8f  07d13a8f  07d13a8f  f862f261  1adce6ef\n",
       "_29  f8aab0bc  4e505ea3  d2988321  f336fea0  a9a633a3\n",
       "_30  88aba84c  337414b8  a1614abe  4a38bc4a  98334731\n",
       "_31  27c07bd6  e5ba7672  3486227d  3486227d  e5ba7672\n",
       "_32  3987fb8a  7b06fafe  88b0e440  d3f6d5f7  75edcf1f\n",
       "_33  21ddcdc9  85684dc0  21ddcdc9      None  21ddcdc9\n",
       "_34  a458ea53  5840adea  5840adea      None  5840adea\n",
       "_35  9376d3ac  49f11974  0e51cc30  63870616  845453b6\n",
       "_36      None      None      None      None      None\n",
       "_37  32c7478e  32c7478e  32c7478e  55dd3565  3a171ecb\n",
       "_38  ad65a526  f86b306c  6c1cdd05  1793a828  ce327ac7\n",
       "_39  001f3601  2bf691b1  ea9a246c      None  e8b83407\n",
       "_40  2fede552  607ab79a  7e6f9939      None  09dd415c"
      ]
     },
     "execution_count": 12,
     "metadata": {},
     "output_type": "execute_result"
    }
   ],
   "source": [
    "pd.DataFrame(df.take(5), columns=df.columns).transpose()"
   ]
  },
  {
   "cell_type": "markdown",
   "metadata": {},
   "source": [
    "From the plot above, it is evident that there are three broad classifications of columns  \n",
    "- Column 1 : Output/Label\n",
    "- Column 2-14 : Numerical Values\n",
    "- Column 15 - 40: Categorical Values\n",
    "\n",
    "Moreover, there are plenty of missing values and that could be filled up a standard constant value - 0"
   ]
  },
  {
   "cell_type": "code",
   "execution_count": 20,
   "metadata": {},
   "outputs": [
    {
     "data": {
      "text/html": [
       "<div>\n",
       "<style scoped>\n",
       "    .dataframe tbody tr th:only-of-type {\n",
       "        vertical-align: middle;\n",
       "    }\n",
       "\n",
       "    .dataframe tbody tr th {\n",
       "        vertical-align: top;\n",
       "    }\n",
       "\n",
       "    .dataframe thead th {\n",
       "        text-align: right;\n",
       "    }\n",
       "</style>\n",
       "<table border=\"1\" class=\"dataframe\">\n",
       "  <thead>\n",
       "    <tr style=\"text-align: right;\">\n",
       "      <th></th>\n",
       "      <th>0</th>\n",
       "      <th>1</th>\n",
       "      <th>2</th>\n",
       "      <th>3</th>\n",
       "      <th>4</th>\n",
       "    </tr>\n",
       "  </thead>\n",
       "  <tbody>\n",
       "    <tr>\n",
       "      <th>_1</th>\n",
       "      <td>0</td>\n",
       "      <td>0</td>\n",
       "      <td>1</td>\n",
       "      <td>0</td>\n",
       "      <td>0</td>\n",
       "    </tr>\n",
       "    <tr>\n",
       "      <th>_2</th>\n",
       "      <td>0</td>\n",
       "      <td>0</td>\n",
       "      <td>0</td>\n",
       "      <td>0</td>\n",
       "      <td>4</td>\n",
       "    </tr>\n",
       "    <tr>\n",
       "      <th>_3</th>\n",
       "      <td>0</td>\n",
       "      <td>8</td>\n",
       "      <td>1</td>\n",
       "      <td>-1</td>\n",
       "      <td>64</td>\n",
       "    </tr>\n",
       "    <tr>\n",
       "      <th>_4</th>\n",
       "      <td>2</td>\n",
       "      <td>0</td>\n",
       "      <td>3</td>\n",
       "      <td>0</td>\n",
       "      <td>4</td>\n",
       "    </tr>\n",
       "    <tr>\n",
       "      <th>_5</th>\n",
       "      <td>9</td>\n",
       "      <td>0</td>\n",
       "      <td>20</td>\n",
       "      <td>0</td>\n",
       "      <td>2</td>\n",
       "    </tr>\n",
       "    <tr>\n",
       "      <th>_6</th>\n",
       "      <td>1366</td>\n",
       "      <td>4910</td>\n",
       "      <td>17647</td>\n",
       "      <td>311637</td>\n",
       "      <td>1490</td>\n",
       "    </tr>\n",
       "    <tr>\n",
       "      <th>_7</th>\n",
       "      <td>316</td>\n",
       "      <td>0</td>\n",
       "      <td>30</td>\n",
       "      <td>0</td>\n",
       "      <td>50</td>\n",
       "    </tr>\n",
       "    <tr>\n",
       "      <th>_8</th>\n",
       "      <td>24</td>\n",
       "      <td>0</td>\n",
       "      <td>1</td>\n",
       "      <td>0</td>\n",
       "      <td>6</td>\n",
       "    </tr>\n",
       "    <tr>\n",
       "      <th>_9</th>\n",
       "      <td>47</td>\n",
       "      <td>8</td>\n",
       "      <td>1</td>\n",
       "      <td>0</td>\n",
       "      <td>12</td>\n",
       "    </tr>\n",
       "    <tr>\n",
       "      <th>_10</th>\n",
       "      <td>350</td>\n",
       "      <td>0</td>\n",
       "      <td>30</td>\n",
       "      <td>1</td>\n",
       "      <td>27</td>\n",
       "    </tr>\n",
       "    <tr>\n",
       "      <th>_11</th>\n",
       "      <td>0</td>\n",
       "      <td>0</td>\n",
       "      <td>0</td>\n",
       "      <td>0</td>\n",
       "      <td>0</td>\n",
       "    </tr>\n",
       "    <tr>\n",
       "      <th>_12</th>\n",
       "      <td>3</td>\n",
       "      <td>0</td>\n",
       "      <td>1</td>\n",
       "      <td>0</td>\n",
       "      <td>1</td>\n",
       "    </tr>\n",
       "    <tr>\n",
       "      <th>_13</th>\n",
       "      <td>0</td>\n",
       "      <td>0</td>\n",
       "      <td>0</td>\n",
       "      <td>0</td>\n",
       "      <td>0</td>\n",
       "    </tr>\n",
       "    <tr>\n",
       "      <th>_14</th>\n",
       "      <td>9</td>\n",
       "      <td>0</td>\n",
       "      <td>20</td>\n",
       "      <td>0</td>\n",
       "      <td>2</td>\n",
       "    </tr>\n",
       "    <tr>\n",
       "      <th>_15</th>\n",
       "      <td>05db9164</td>\n",
       "      <td>05db9164</td>\n",
       "      <td>05db9164</td>\n",
       "      <td>3c9d8785</td>\n",
       "      <td>05db9164</td>\n",
       "    </tr>\n",
       "    <tr>\n",
       "      <th>_16</th>\n",
       "      <td>064c8f31</td>\n",
       "      <td>95e2d337</td>\n",
       "      <td>f0cf0024</td>\n",
       "      <td>38a947a1</td>\n",
       "      <td>39dfaa0d</td>\n",
       "    </tr>\n",
       "    <tr>\n",
       "      <th>_17</th>\n",
       "      <td>ee9dd06a</td>\n",
       "      <td>a0f84563</td>\n",
       "      <td>98d504db</td>\n",
       "      <td>2ef73c34</td>\n",
       "      <td>ae06bf90</td>\n",
       "    </tr>\n",
       "    <tr>\n",
       "      <th>_18</th>\n",
       "      <td>ecd34703</td>\n",
       "      <td>4ee155c9</td>\n",
       "      <td>dab52c65</td>\n",
       "      <td>cf21074e</td>\n",
       "      <td>b125f81c</td>\n",
       "    </tr>\n",
       "    <tr>\n",
       "      <th>_19</th>\n",
       "      <td>25c83c98</td>\n",
       "      <td>25c83c98</td>\n",
       "      <td>25c83c98</td>\n",
       "      <td>25c83c98</td>\n",
       "      <td>25c83c98</td>\n",
       "    </tr>\n",
       "    <tr>\n",
       "      <th>_20</th>\n",
       "      <td>7e0ccccf</td>\n",
       "      <td>3bf701e7</td>\n",
       "      <td>fbad5c96</td>\n",
       "      <td>fbad5c96</td>\n",
       "      <td>fbad5c96</td>\n",
       "    </tr>\n",
       "    <tr>\n",
       "      <th>_21</th>\n",
       "      <td>2e8a689b</td>\n",
       "      <td>d252d044</td>\n",
       "      <td>457fd078</td>\n",
       "      <td>91282309</td>\n",
       "      <td>753aa291</td>\n",
       "    </tr>\n",
       "    <tr>\n",
       "      <th>_22</th>\n",
       "      <td>062b5529</td>\n",
       "      <td>37e4aa92</td>\n",
       "      <td>0b153874</td>\n",
       "      <td>5b392875</td>\n",
       "      <td>1f89b562</td>\n",
       "    </tr>\n",
       "    <tr>\n",
       "      <th>_23</th>\n",
       "      <td>a73ee510</td>\n",
       "      <td>a73ee510</td>\n",
       "      <td>a73ee510</td>\n",
       "      <td>7cc72ec2</td>\n",
       "      <td>a73ee510</td>\n",
       "    </tr>\n",
       "    <tr>\n",
       "      <th>_24</th>\n",
       "      <td>efea433b</td>\n",
       "      <td>7b136229</td>\n",
       "      <td>711ec2bc</td>\n",
       "      <td>6f0d561c</td>\n",
       "      <td>a384f95f</td>\n",
       "    </tr>\n",
       "    <tr>\n",
       "      <th>_25</th>\n",
       "      <td>e51ddf94</td>\n",
       "      <td>efbc225d</td>\n",
       "      <td>5f2b6964</td>\n",
       "      <td>9e511730</td>\n",
       "      <td>d20ffd8f</td>\n",
       "    </tr>\n",
       "    <tr>\n",
       "      <th>_26</th>\n",
       "      <td>ca0011c3</td>\n",
       "      <td>f244ab92</td>\n",
       "      <td>7e014e7c</td>\n",
       "      <td>3c27afbf</td>\n",
       "      <td>c15e7f3e</td>\n",
       "    </tr>\n",
       "    <tr>\n",
       "      <th>_27</th>\n",
       "      <td>3516f6e6</td>\n",
       "      <td>9da67560</td>\n",
       "      <td>7a36be10</td>\n",
       "      <td>04e4a7e0</td>\n",
       "      <td>6619af2b</td>\n",
       "    </tr>\n",
       "    <tr>\n",
       "      <th>_28</th>\n",
       "      <td>07d13a8f</td>\n",
       "      <td>07d13a8f</td>\n",
       "      <td>07d13a8f</td>\n",
       "      <td>f862f261</td>\n",
       "      <td>1adce6ef</td>\n",
       "    </tr>\n",
       "    <tr>\n",
       "      <th>_29</th>\n",
       "      <td>f8aab0bc</td>\n",
       "      <td>4e505ea3</td>\n",
       "      <td>d2988321</td>\n",
       "      <td>f336fea0</td>\n",
       "      <td>a9a633a3</td>\n",
       "    </tr>\n",
       "    <tr>\n",
       "      <th>_30</th>\n",
       "      <td>88aba84c</td>\n",
       "      <td>337414b8</td>\n",
       "      <td>a1614abe</td>\n",
       "      <td>4a38bc4a</td>\n",
       "      <td>98334731</td>\n",
       "    </tr>\n",
       "    <tr>\n",
       "      <th>_31</th>\n",
       "      <td>27c07bd6</td>\n",
       "      <td>e5ba7672</td>\n",
       "      <td>3486227d</td>\n",
       "      <td>3486227d</td>\n",
       "      <td>e5ba7672</td>\n",
       "    </tr>\n",
       "    <tr>\n",
       "      <th>_32</th>\n",
       "      <td>3987fb8a</td>\n",
       "      <td>7b06fafe</td>\n",
       "      <td>88b0e440</td>\n",
       "      <td>d3f6d5f7</td>\n",
       "      <td>75edcf1f</td>\n",
       "    </tr>\n",
       "    <tr>\n",
       "      <th>_33</th>\n",
       "      <td>21ddcdc9</td>\n",
       "      <td>85684dc0</td>\n",
       "      <td>21ddcdc9</td>\n",
       "      <td>None</td>\n",
       "      <td>21ddcdc9</td>\n",
       "    </tr>\n",
       "    <tr>\n",
       "      <th>_34</th>\n",
       "      <td>a458ea53</td>\n",
       "      <td>5840adea</td>\n",
       "      <td>5840adea</td>\n",
       "      <td>None</td>\n",
       "      <td>5840adea</td>\n",
       "    </tr>\n",
       "    <tr>\n",
       "      <th>_35</th>\n",
       "      <td>9376d3ac</td>\n",
       "      <td>49f11974</td>\n",
       "      <td>0e51cc30</td>\n",
       "      <td>63870616</td>\n",
       "      <td>845453b6</td>\n",
       "    </tr>\n",
       "    <tr>\n",
       "      <th>_36</th>\n",
       "      <td>None</td>\n",
       "      <td>None</td>\n",
       "      <td>None</td>\n",
       "      <td>None</td>\n",
       "      <td>None</td>\n",
       "    </tr>\n",
       "    <tr>\n",
       "      <th>_37</th>\n",
       "      <td>32c7478e</td>\n",
       "      <td>32c7478e</td>\n",
       "      <td>32c7478e</td>\n",
       "      <td>55dd3565</td>\n",
       "      <td>3a171ecb</td>\n",
       "    </tr>\n",
       "    <tr>\n",
       "      <th>_38</th>\n",
       "      <td>ad65a526</td>\n",
       "      <td>f86b306c</td>\n",
       "      <td>6c1cdd05</td>\n",
       "      <td>1793a828</td>\n",
       "      <td>ce327ac7</td>\n",
       "    </tr>\n",
       "    <tr>\n",
       "      <th>_39</th>\n",
       "      <td>001f3601</td>\n",
       "      <td>2bf691b1</td>\n",
       "      <td>ea9a246c</td>\n",
       "      <td>None</td>\n",
       "      <td>e8b83407</td>\n",
       "    </tr>\n",
       "    <tr>\n",
       "      <th>_40</th>\n",
       "      <td>2fede552</td>\n",
       "      <td>607ab79a</td>\n",
       "      <td>7e6f9939</td>\n",
       "      <td>None</td>\n",
       "      <td>09dd415c</td>\n",
       "    </tr>\n",
       "  </tbody>\n",
       "</table>\n",
       "</div>"
      ],
      "text/plain": [
       "            0         1         2         3         4\n",
       "_1          0         0         1         0         0\n",
       "_2          0         0         0         0         4\n",
       "_3          0         8         1        -1        64\n",
       "_4          2         0         3         0         4\n",
       "_5          9         0        20         0         2\n",
       "_6       1366      4910     17647    311637      1490\n",
       "_7        316         0        30         0        50\n",
       "_8         24         0         1         0         6\n",
       "_9         47         8         1         0        12\n",
       "_10       350         0        30         1        27\n",
       "_11         0         0         0         0         0\n",
       "_12         3         0         1         0         1\n",
       "_13         0         0         0         0         0\n",
       "_14         9         0        20         0         2\n",
       "_15  05db9164  05db9164  05db9164  3c9d8785  05db9164\n",
       "_16  064c8f31  95e2d337  f0cf0024  38a947a1  39dfaa0d\n",
       "_17  ee9dd06a  a0f84563  98d504db  2ef73c34  ae06bf90\n",
       "_18  ecd34703  4ee155c9  dab52c65  cf21074e  b125f81c\n",
       "_19  25c83c98  25c83c98  25c83c98  25c83c98  25c83c98\n",
       "_20  7e0ccccf  3bf701e7  fbad5c96  fbad5c96  fbad5c96\n",
       "_21  2e8a689b  d252d044  457fd078  91282309  753aa291\n",
       "_22  062b5529  37e4aa92  0b153874  5b392875  1f89b562\n",
       "_23  a73ee510  a73ee510  a73ee510  7cc72ec2  a73ee510\n",
       "_24  efea433b  7b136229  711ec2bc  6f0d561c  a384f95f\n",
       "_25  e51ddf94  efbc225d  5f2b6964  9e511730  d20ffd8f\n",
       "_26  ca0011c3  f244ab92  7e014e7c  3c27afbf  c15e7f3e\n",
       "_27  3516f6e6  9da67560  7a36be10  04e4a7e0  6619af2b\n",
       "_28  07d13a8f  07d13a8f  07d13a8f  f862f261  1adce6ef\n",
       "_29  f8aab0bc  4e505ea3  d2988321  f336fea0  a9a633a3\n",
       "_30  88aba84c  337414b8  a1614abe  4a38bc4a  98334731\n",
       "_31  27c07bd6  e5ba7672  3486227d  3486227d  e5ba7672\n",
       "_32  3987fb8a  7b06fafe  88b0e440  d3f6d5f7  75edcf1f\n",
       "_33  21ddcdc9  85684dc0  21ddcdc9      None  21ddcdc9\n",
       "_34  a458ea53  5840adea  5840adea      None  5840adea\n",
       "_35  9376d3ac  49f11974  0e51cc30  63870616  845453b6\n",
       "_36      None      None      None      None      None\n",
       "_37  32c7478e  32c7478e  32c7478e  55dd3565  3a171ecb\n",
       "_38  ad65a526  f86b306c  6c1cdd05  1793a828  ce327ac7\n",
       "_39  001f3601  2bf691b1  ea9a246c      None  e8b83407\n",
       "_40  2fede552  607ab79a  7e6f9939      None  09dd415c"
      ]
     },
     "execution_count": 20,
     "metadata": {},
     "output_type": "execute_result"
    }
   ],
   "source": [
    "df = df.na.fill(0)\n",
    "\n",
    "pd.DataFrame(df.take(5), columns=df.columns).transpose()"
   ]
  },
  {
   "cell_type": "markdown",
   "metadata": {},
   "source": [
    "Getting numeric and categorical column names."
   ]
  },
  {
   "cell_type": "code",
   "execution_count": null,
   "metadata": {},
   "outputs": [],
   "source": [
    "numericCols = df.columns[1:14]\n",
    "categoricalColumns = df.columns[14:41]"
   ]
  },
  {
   "cell_type": "markdown",
   "metadata": {},
   "source": [
    "#### Section 3.1.2 - Inspect Data Distribution of Numerical Columns"
   ]
  },
  {
   "cell_type": "code",
   "execution_count": 17,
   "metadata": {},
   "outputs": [
    {
     "name": "stdout",
     "output_type": "stream",
     "text": [
      "+-------+------------------+----------------+-----------------+-----------------+-----------------+\n",
      "|Summary|                _2|              _3|               _4|               _5|               _6|\n",
      "+-------+------------------+----------------+-----------------+-----------------+-----------------+\n",
      "|  count|              2764|            5000|             4014|             4012|             4859|\n",
      "|   mean|3.0861070911722144|        111.8884|20.57498754359741|7.587487537387837|19752.57089936201|\n",
      "| stddev| 7.437360728411959|398.904083256824|58.24237003906267|8.949486932145078|74237.14669289338|\n",
      "|    min|                 0|              -2|                0|                0|                0|\n",
      "|    max|               151|            5945|             2050|               91|          1577121|\n",
      "+-------+------------------+----------------+-----------------+-----------------+-----------------+\n",
      "\n"
     ]
    }
   ],
   "source": [
    "#Data distribution \n",
    "df.describe().select('Summary', '_2', '_3', '_4', '_5', '_6').show()"
   ]
  },
  {
   "cell_type": "code",
   "execution_count": 18,
   "metadata": {},
   "outputs": [
    {
     "name": "stdout",
     "output_type": "stream",
     "text": [
      "+-------+------------------+------------------+------------------+------------------+------------------+\n",
      "|Summary|                _7|                _8|                _9|               _10|               _11|\n",
      "+-------+------------------+------------------+------------------+------------------+------------------+\n",
      "|  count|              3800|              4778|              4999|              4778|              2764|\n",
      "|   mean|124.05131578947369|15.510464629552114|12.320464092818563|103.23231477605692| 0.532561505065123|\n",
      "| stddev| 347.0117403373191|48.293716133203866|13.536432961145458|210.93376545285946|0.6234846166130683|\n",
      "|    min|                 0|                 0|                 0|                 0|                 0|\n",
      "|    max|              5936|              1036|               237|              4144|                 5|\n",
      "+-------+------------------+------------------+------------------+------------------+------------------+\n",
      "\n"
     ]
    }
   ],
   "source": [
    "df.describe().select('Summary', '_7', '_8', '_9', '_10', '_11').show()"
   ]
  },
  {
   "cell_type": "code",
   "execution_count": 19,
   "metadata": {},
   "outputs": [
    {
     "name": "stdout",
     "output_type": "stream",
     "text": [
      "+-------+-----------------+------------------+------------------+\n",
      "|Summary|              _12|               _13|               _14|\n",
      "+-------+-----------------+------------------+------------------+\n",
      "|  count|             4778|              1152|              4012|\n",
      "|   mean|2.620971117622436|0.8732638888888888| 8.593469591226322|\n",
      "| stddev|5.097635360270372|3.5293847192911856|11.277355438010085|\n",
      "|    min|                0|                 0|                 0|\n",
      "|    max|               81|                43|               182|\n",
      "+-------+-----------------+------------------+------------------+\n",
      "\n"
     ]
    }
   ],
   "source": [
    "df.describe().select('Summary', '_12', '_13', '_14').show()"
   ]
  },
  {
   "cell_type": "markdown",
   "metadata": {},
   "source": [
    "The numeric columns seem to have different ranges and scales. These columns need to be rescaled."
   ]
  },
  {
   "cell_type": "markdown",
   "metadata": {},
   "source": [
    "The following plot shows the class distribution of the output variable."
   ]
  },
  {
   "cell_type": "code",
   "execution_count": 58,
   "metadata": {},
   "outputs": [],
   "source": [
    "Labels_counts=df.select(\"_1\").groupBy(\"_1\").count().toPandas()\n",
    "fig_std=(10,8)\n",
    "width = 0.4\n",
    "Labels_counts.plot(kind='bar', figsize=fig_std).set(xlabel='Label value', ylabel='frequency',title='Labels')"
   ]
  },
  {
   "cell_type": "code",
   "execution_count": 4,
   "metadata": {},
   "outputs": [
    {
     "data": {
      "image/png": "[encoded data removed]",
      "text/plain": [
       "<IPython.core.display.Image object>"
      ]
     },
     "execution_count": 4,
     "metadata": {},
     "output_type": "execute_result"
    }
   ],
   "source": [
    "Image(\"images/Label0_1_histogram.png\") "
   ]
  },
  {
   "cell_type": "markdown",
   "metadata": {},
   "source": [
    "There is an imbalance of the count of 0 and 1, around 75% of lables are 0 and 25% 1. It should be rebalanced for the better performance of the algorithms."
   ]
  },
  {
   "cell_type": "code",
   "execution_count": null,
   "metadata": {},
   "outputs": [],
   "source": [
    "## Histogram of numerical columns (_2 to _8)\n",
    "data=df.sample(False, 0.1, seed=0).limit(10000000).select(['_2','_3','_4','_5','_6','_7','_8']).toPandas()\n",
    "data.loc[:, '_2': '_8'].hist(bins=50, figsize=(20,15), color = 'green')"
   ]
  },
  {
   "cell_type": "code",
   "execution_count": 5,
   "metadata": {},
   "outputs": [
    {
     "data": {
      "image/png": "[encoded data removed]",
      "text/plain": [
       "<IPython.core.display.Image object>"
      ]
     },
     "execution_count": 5,
     "metadata": {},
     "output_type": "execute_result"
    }
   ],
   "source": [
    "Image(\"images/Histo_2_8.png\") "
   ]
  },
  {
   "cell_type": "code",
   "execution_count": null,
   "metadata": {},
   "outputs": [],
   "source": [
    "## Histogram of numerical columns (_2 to _14)\n",
    "data=df.sample(False, 0.1, seed=0).limit(10000000).select(['_9','_10','_11','_12','_13','_14']).toPandas()\n",
    "data.loc[:, '_9': '_14'].hist(bins=50, figsize=(20,15), color = 'green')"
   ]
  },
  {
   "cell_type": "code",
   "execution_count": 8,
   "metadata": {},
   "outputs": [
    {
     "data": {
      "image/png": "[encoded data removed]",
      "text/plain": [
       "<IPython.core.display.Image object>"
      ]
     },
     "execution_count": 8,
     "metadata": {},
     "output_type": "execute_result"
    }
   ],
   "source": [
    "Image(\"images/histo_9_14.png\")"
   ]
  },
  {
   "cell_type": "markdown",
   "metadata": {},
   "source": [
    "All the numerical columns are on different scales. All the columns will be rescaled. It is also evident that most of the values are over shorter range."
   ]
  },
  {
   "cell_type": "code",
   "execution_count": null,
   "metadata": {},
   "outputs": [],
   "source": [
    "numeric_data = df.sample(False,0.1,seed=0).limit(1000000).select(numericCols).toPandas()\n",
    "\n",
    "axs = pd.plotting.scatter_matrix(numeric_data, figsize=(18, 18));\n",
    "n = len(numeric_data.columns)\n",
    "for i in range(n):\n",
    "    v = axs[i, 0]\n",
    "    v.yaxis.label.set_rotation(0)\n",
    "    v.yaxis.label.set_ha('right')\n",
    "    v.set_yticks(())\n",
    "    h = axs[n-1, i]\n",
    "    h.xaxis.label.set_rotation(90)\n",
    "    h.set_xticks(())"
   ]
  },
  {
   "cell_type": "code",
   "execution_count": 9,
   "metadata": {},
   "outputs": [
    {
     "data": {
      "image/png": "[encoded data removed]",
      "text/plain": [
       "<IPython.core.display.Image object>"
      ]
     },
     "execution_count": 9,
     "metadata": {},
     "output_type": "execute_result"
    }
   ],
   "source": [
    "Image(\"images/Scat-_2_14.png\")"
   ]
  },
  {
   "cell_type": "markdown",
   "metadata": {},
   "source": [
    "Scatter plots above show that there is no perfect collinearity between any 2 columns so all the columns will be included in analysis."
   ]
  },
  {
   "cell_type": "markdown",
   "metadata": {},
   "source": [
    "### Section 3.2 - Run Algorithm on Randomly Sampled Data Source"
   ]
  },
  {
   "cell_type": "markdown",
   "metadata": {},
   "source": [
    "#### Section 3.2.1 - Pre-process Data"
   ]
  },
  {
   "cell_type": "markdown",
   "metadata": {},
   "source": [
    "#### Section 3.2.1.1 - StringIndexer and VectorAssembler Pipeline"
   ]
  },
  {
   "cell_type": "markdown",
   "metadata": {},
   "source": [
    "In the section below a pipeline has been used to encode categorical columns and generate vector of all column values for the machine learning algorithms. "
   ]
  },
  {
   "cell_type": "code",
   "execution_count": 22,
   "metadata": {},
   "outputs": [],
   "source": [
    "stages = []\n",
    "indexerCols = []\n",
    "\n",
    "for categoricalCol in categoricalColumns:\n",
    "    indexerCol = categoricalCol + \"Index\"\n",
    "    \n",
    "    #Run StringIndexer to generate numerical frequency values for categorical columns.\n",
    "    indexer = StringIndexer(inputCol=categoricalCol, outputCol= indexerCol).setHandleInvalid(\"keep\")\n",
    "    stages += [indexer]\n",
    "    \n",
    "    #Add invidual columns to the pipeline\n",
    "    indexerCols.append(indexerCol)\n",
    "\n",
    "label_stringIdx = StringIndexer(inputCol = '_1', outputCol = 'output')\n",
    "stages += [label_stringIdx]"
   ]
  },
  {
   "cell_type": "markdown",
   "metadata": {},
   "source": [
    "Add VectorAssembler to the pipeline to generate vector of column values."
   ]
  },
  {
   "cell_type": "code",
   "execution_count": 23,
   "metadata": {},
   "outputs": [],
   "source": [
    "assembler = VectorAssembler(inputCols=indexerCols + numericCols, outputCol=\"features\")\n",
    "stages += [assembler]"
   ]
  },
  {
   "cell_type": "markdown",
   "metadata": {},
   "source": [
    "Execute pipeline and show the vector and output column"
   ]
  },
  {
   "cell_type": "code",
   "execution_count": 24,
   "metadata": {},
   "outputs": [
    {
     "data": {
      "text/html": [
       "<div>\n",
       "<style scoped>\n",
       "    .dataframe tbody tr th:only-of-type {\n",
       "        vertical-align: middle;\n",
       "    }\n",
       "\n",
       "    .dataframe tbody tr th {\n",
       "        vertical-align: top;\n",
       "    }\n",
       "\n",
       "    .dataframe thead th {\n",
       "        text-align: right;\n",
       "    }\n",
       "</style>\n",
       "<table border=\"1\" class=\"dataframe\">\n",
       "  <thead>\n",
       "    <tr style=\"text-align: right;\">\n",
       "      <th></th>\n",
       "      <th>0</th>\n",
       "      <th>1</th>\n",
       "      <th>2</th>\n",
       "      <th>3</th>\n",
       "      <th>4</th>\n",
       "    </tr>\n",
       "  </thead>\n",
       "  <tbody>\n",
       "    <tr>\n",
       "      <th>output</th>\n",
       "      <td>0</td>\n",
       "      <td>0</td>\n",
       "      <td>1</td>\n",
       "      <td>0</td>\n",
       "      <td>0</td>\n",
       "    </tr>\n",
       "    <tr>\n",
       "      <th>features</th>\n",
       "      <td>[156.0, 220.0, 0.0, 0.0, 31.0, 4.0, 0.0, 1.0, ...</td>\n",
       "      <td>(1316.0, 1446.0, 0.0, 5.0, 462.0, 3.0, 0.0, 77...</td>\n",
       "      <td>[1452.0, 86.0, 0.0, 1.0, 970.0, 0.0, 0.0, 18.0...</td>\n",
       "      <td>[598.0, 2133.0, 0.0, 1.0, 174.0, 1.0, 1.0, 560...</td>\n",
       "      <td>[58.0, 69.0, 0.0, 1.0, 313.0, 2.0, 0.0, 1176.0...</td>\n",
       "    </tr>\n",
       "    <tr>\n",
       "      <th>_1</th>\n",
       "      <td>0</td>\n",
       "      <td>0</td>\n",
       "      <td>1</td>\n",
       "      <td>0</td>\n",
       "      <td>0</td>\n",
       "    </tr>\n",
       "    <tr>\n",
       "      <th>_2</th>\n",
       "      <td>0</td>\n",
       "      <td>0</td>\n",
       "      <td>0</td>\n",
       "      <td>0</td>\n",
       "      <td>4</td>\n",
       "    </tr>\n",
       "    <tr>\n",
       "      <th>_3</th>\n",
       "      <td>0</td>\n",
       "      <td>8</td>\n",
       "      <td>1</td>\n",
       "      <td>-1</td>\n",
       "      <td>64</td>\n",
       "    </tr>\n",
       "    <tr>\n",
       "      <th>_4</th>\n",
       "      <td>2</td>\n",
       "      <td>0</td>\n",
       "      <td>3</td>\n",
       "      <td>0</td>\n",
       "      <td>4</td>\n",
       "    </tr>\n",
       "    <tr>\n",
       "      <th>_5</th>\n",
       "      <td>9</td>\n",
       "      <td>0</td>\n",
       "      <td>20</td>\n",
       "      <td>0</td>\n",
       "      <td>2</td>\n",
       "    </tr>\n",
       "    <tr>\n",
       "      <th>_6</th>\n",
       "      <td>1366</td>\n",
       "      <td>4910</td>\n",
       "      <td>17647</td>\n",
       "      <td>311637</td>\n",
       "      <td>1490</td>\n",
       "    </tr>\n",
       "    <tr>\n",
       "      <th>_7</th>\n",
       "      <td>316</td>\n",
       "      <td>0</td>\n",
       "      <td>30</td>\n",
       "      <td>0</td>\n",
       "      <td>50</td>\n",
       "    </tr>\n",
       "    <tr>\n",
       "      <th>_8</th>\n",
       "      <td>24</td>\n",
       "      <td>0</td>\n",
       "      <td>1</td>\n",
       "      <td>0</td>\n",
       "      <td>6</td>\n",
       "    </tr>\n",
       "    <tr>\n",
       "      <th>_9</th>\n",
       "      <td>47</td>\n",
       "      <td>8</td>\n",
       "      <td>1</td>\n",
       "      <td>0</td>\n",
       "      <td>12</td>\n",
       "    </tr>\n",
       "    <tr>\n",
       "      <th>_10</th>\n",
       "      <td>350</td>\n",
       "      <td>0</td>\n",
       "      <td>30</td>\n",
       "      <td>1</td>\n",
       "      <td>27</td>\n",
       "    </tr>\n",
       "    <tr>\n",
       "      <th>_11</th>\n",
       "      <td>0</td>\n",
       "      <td>0</td>\n",
       "      <td>0</td>\n",
       "      <td>0</td>\n",
       "      <td>0</td>\n",
       "    </tr>\n",
       "    <tr>\n",
       "      <th>_12</th>\n",
       "      <td>3</td>\n",
       "      <td>0</td>\n",
       "      <td>1</td>\n",
       "      <td>0</td>\n",
       "      <td>1</td>\n",
       "    </tr>\n",
       "    <tr>\n",
       "      <th>_13</th>\n",
       "      <td>0</td>\n",
       "      <td>0</td>\n",
       "      <td>0</td>\n",
       "      <td>0</td>\n",
       "      <td>0</td>\n",
       "    </tr>\n",
       "    <tr>\n",
       "      <th>_14</th>\n",
       "      <td>9</td>\n",
       "      <td>0</td>\n",
       "      <td>20</td>\n",
       "      <td>0</td>\n",
       "      <td>2</td>\n",
       "    </tr>\n",
       "    <tr>\n",
       "      <th>_15</th>\n",
       "      <td>05db9164</td>\n",
       "      <td>05db9164</td>\n",
       "      <td>05db9164</td>\n",
       "      <td>3c9d8785</td>\n",
       "      <td>05db9164</td>\n",
       "    </tr>\n",
       "    <tr>\n",
       "      <th>_16</th>\n",
       "      <td>064c8f31</td>\n",
       "      <td>95e2d337</td>\n",
       "      <td>f0cf0024</td>\n",
       "      <td>38a947a1</td>\n",
       "      <td>39dfaa0d</td>\n",
       "    </tr>\n",
       "    <tr>\n",
       "      <th>_17</th>\n",
       "      <td>ee9dd06a</td>\n",
       "      <td>a0f84563</td>\n",
       "      <td>98d504db</td>\n",
       "      <td>2ef73c34</td>\n",
       "      <td>ae06bf90</td>\n",
       "    </tr>\n",
       "    <tr>\n",
       "      <th>_18</th>\n",
       "      <td>ecd34703</td>\n",
       "      <td>4ee155c9</td>\n",
       "      <td>dab52c65</td>\n",
       "      <td>cf21074e</td>\n",
       "      <td>b125f81c</td>\n",
       "    </tr>\n",
       "    <tr>\n",
       "      <th>_19</th>\n",
       "      <td>25c83c98</td>\n",
       "      <td>25c83c98</td>\n",
       "      <td>25c83c98</td>\n",
       "      <td>25c83c98</td>\n",
       "      <td>25c83c98</td>\n",
       "    </tr>\n",
       "    <tr>\n",
       "      <th>_20</th>\n",
       "      <td>7e0ccccf</td>\n",
       "      <td>3bf701e7</td>\n",
       "      <td>fbad5c96</td>\n",
       "      <td>fbad5c96</td>\n",
       "      <td>fbad5c96</td>\n",
       "    </tr>\n",
       "    <tr>\n",
       "      <th>_21</th>\n",
       "      <td>2e8a689b</td>\n",
       "      <td>d252d044</td>\n",
       "      <td>457fd078</td>\n",
       "      <td>91282309</td>\n",
       "      <td>753aa291</td>\n",
       "    </tr>\n",
       "    <tr>\n",
       "      <th>_22</th>\n",
       "      <td>062b5529</td>\n",
       "      <td>37e4aa92</td>\n",
       "      <td>0b153874</td>\n",
       "      <td>5b392875</td>\n",
       "      <td>1f89b562</td>\n",
       "    </tr>\n",
       "    <tr>\n",
       "      <th>_23</th>\n",
       "      <td>a73ee510</td>\n",
       "      <td>a73ee510</td>\n",
       "      <td>a73ee510</td>\n",
       "      <td>7cc72ec2</td>\n",
       "      <td>a73ee510</td>\n",
       "    </tr>\n",
       "    <tr>\n",
       "      <th>_24</th>\n",
       "      <td>efea433b</td>\n",
       "      <td>7b136229</td>\n",
       "      <td>711ec2bc</td>\n",
       "      <td>6f0d561c</td>\n",
       "      <td>a384f95f</td>\n",
       "    </tr>\n",
       "    <tr>\n",
       "      <th>_25</th>\n",
       "      <td>e51ddf94</td>\n",
       "      <td>efbc225d</td>\n",
       "      <td>5f2b6964</td>\n",
       "      <td>9e511730</td>\n",
       "      <td>d20ffd8f</td>\n",
       "    </tr>\n",
       "    <tr>\n",
       "      <th>_26</th>\n",
       "      <td>ca0011c3</td>\n",
       "      <td>f244ab92</td>\n",
       "      <td>7e014e7c</td>\n",
       "      <td>3c27afbf</td>\n",
       "      <td>c15e7f3e</td>\n",
       "    </tr>\n",
       "    <tr>\n",
       "      <th>_27</th>\n",
       "      <td>3516f6e6</td>\n",
       "      <td>9da67560</td>\n",
       "      <td>7a36be10</td>\n",
       "      <td>04e4a7e0</td>\n",
       "      <td>6619af2b</td>\n",
       "    </tr>\n",
       "    <tr>\n",
       "      <th>_28</th>\n",
       "      <td>07d13a8f</td>\n",
       "      <td>07d13a8f</td>\n",
       "      <td>07d13a8f</td>\n",
       "      <td>f862f261</td>\n",
       "      <td>1adce6ef</td>\n",
       "    </tr>\n",
       "    <tr>\n",
       "      <th>_29</th>\n",
       "      <td>f8aab0bc</td>\n",
       "      <td>4e505ea3</td>\n",
       "      <td>d2988321</td>\n",
       "      <td>f336fea0</td>\n",
       "      <td>a9a633a3</td>\n",
       "    </tr>\n",
       "    <tr>\n",
       "      <th>_30</th>\n",
       "      <td>88aba84c</td>\n",
       "      <td>337414b8</td>\n",
       "      <td>a1614abe</td>\n",
       "      <td>4a38bc4a</td>\n",
       "      <td>98334731</td>\n",
       "    </tr>\n",
       "    <tr>\n",
       "      <th>_31</th>\n",
       "      <td>27c07bd6</td>\n",
       "      <td>e5ba7672</td>\n",
       "      <td>3486227d</td>\n",
       "      <td>3486227d</td>\n",
       "      <td>e5ba7672</td>\n",
       "    </tr>\n",
       "    <tr>\n",
       "      <th>_32</th>\n",
       "      <td>3987fb8a</td>\n",
       "      <td>7b06fafe</td>\n",
       "      <td>88b0e440</td>\n",
       "      <td>d3f6d5f7</td>\n",
       "      <td>75edcf1f</td>\n",
       "    </tr>\n",
       "    <tr>\n",
       "      <th>_33</th>\n",
       "      <td>21ddcdc9</td>\n",
       "      <td>85684dc0</td>\n",
       "      <td>21ddcdc9</td>\n",
       "      <td>None</td>\n",
       "      <td>21ddcdc9</td>\n",
       "    </tr>\n",
       "    <tr>\n",
       "      <th>_34</th>\n",
       "      <td>a458ea53</td>\n",
       "      <td>5840adea</td>\n",
       "      <td>5840adea</td>\n",
       "      <td>None</td>\n",
       "      <td>5840adea</td>\n",
       "    </tr>\n",
       "    <tr>\n",
       "      <th>_35</th>\n",
       "      <td>9376d3ac</td>\n",
       "      <td>49f11974</td>\n",
       "      <td>0e51cc30</td>\n",
       "      <td>63870616</td>\n",
       "      <td>845453b6</td>\n",
       "    </tr>\n",
       "    <tr>\n",
       "      <th>_36</th>\n",
       "      <td>None</td>\n",
       "      <td>None</td>\n",
       "      <td>None</td>\n",
       "      <td>None</td>\n",
       "      <td>None</td>\n",
       "    </tr>\n",
       "    <tr>\n",
       "      <th>_37</th>\n",
       "      <td>32c7478e</td>\n",
       "      <td>32c7478e</td>\n",
       "      <td>32c7478e</td>\n",
       "      <td>55dd3565</td>\n",
       "      <td>3a171ecb</td>\n",
       "    </tr>\n",
       "    <tr>\n",
       "      <th>_38</th>\n",
       "      <td>ad65a526</td>\n",
       "      <td>f86b306c</td>\n",
       "      <td>6c1cdd05</td>\n",
       "      <td>1793a828</td>\n",
       "      <td>ce327ac7</td>\n",
       "    </tr>\n",
       "    <tr>\n",
       "      <th>_39</th>\n",
       "      <td>001f3601</td>\n",
       "      <td>2bf691b1</td>\n",
       "      <td>ea9a246c</td>\n",
       "      <td>None</td>\n",
       "      <td>e8b83407</td>\n",
       "    </tr>\n",
       "    <tr>\n",
       "      <th>_40</th>\n",
       "      <td>2fede552</td>\n",
       "      <td>607ab79a</td>\n",
       "      <td>7e6f9939</td>\n",
       "      <td>None</td>\n",
       "      <td>09dd415c</td>\n",
       "    </tr>\n",
       "  </tbody>\n",
       "</table>\n",
       "</div>"
      ],
      "text/plain": [
       "                                                          0  \\\n",
       "output                                                    0   \n",
       "features  [156.0, 220.0, 0.0, 0.0, 31.0, 4.0, 0.0, 1.0, ...   \n",
       "_1                                                        0   \n",
       "_2                                                        0   \n",
       "_3                                                        0   \n",
       "_4                                                        2   \n",
       "_5                                                        9   \n",
       "_6                                                     1366   \n",
       "_7                                                      316   \n",
       "_8                                                       24   \n",
       "_9                                                       47   \n",
       "_10                                                     350   \n",
       "_11                                                       0   \n",
       "_12                                                       3   \n",
       "_13                                                       0   \n",
       "_14                                                       9   \n",
       "_15                                                05db9164   \n",
       "_16                                                064c8f31   \n",
       "_17                                                ee9dd06a   \n",
       "_18                                                ecd34703   \n",
       "_19                                                25c83c98   \n",
       "_20                                                7e0ccccf   \n",
       "_21                                                2e8a689b   \n",
       "_22                                                062b5529   \n",
       "_23                                                a73ee510   \n",
       "_24                                                efea433b   \n",
       "_25                                                e51ddf94   \n",
       "_26                                                ca0011c3   \n",
       "_27                                                3516f6e6   \n",
       "_28                                                07d13a8f   \n",
       "_29                                                f8aab0bc   \n",
       "_30                                                88aba84c   \n",
       "_31                                                27c07bd6   \n",
       "_32                                                3987fb8a   \n",
       "_33                                                21ddcdc9   \n",
       "_34                                                a458ea53   \n",
       "_35                                                9376d3ac   \n",
       "_36                                                    None   \n",
       "_37                                                32c7478e   \n",
       "_38                                                ad65a526   \n",
       "_39                                                001f3601   \n",
       "_40                                                2fede552   \n",
       "\n",
       "                                                          1  \\\n",
       "output                                                    0   \n",
       "features  (1316.0, 1446.0, 0.0, 5.0, 462.0, 3.0, 0.0, 77...   \n",
       "_1                                                        0   \n",
       "_2                                                        0   \n",
       "_3                                                        8   \n",
       "_4                                                        0   \n",
       "_5                                                        0   \n",
       "_6                                                     4910   \n",
       "_7                                                        0   \n",
       "_8                                                        0   \n",
       "_9                                                        8   \n",
       "_10                                                       0   \n",
       "_11                                                       0   \n",
       "_12                                                       0   \n",
       "_13                                                       0   \n",
       "_14                                                       0   \n",
       "_15                                                05db9164   \n",
       "_16                                                95e2d337   \n",
       "_17                                                a0f84563   \n",
       "_18                                                4ee155c9   \n",
       "_19                                                25c83c98   \n",
       "_20                                                3bf701e7   \n",
       "_21                                                d252d044   \n",
       "_22                                                37e4aa92   \n",
       "_23                                                a73ee510   \n",
       "_24                                                7b136229   \n",
       "_25                                                efbc225d   \n",
       "_26                                                f244ab92   \n",
       "_27                                                9da67560   \n",
       "_28                                                07d13a8f   \n",
       "_29                                                4e505ea3   \n",
       "_30                                                337414b8   \n",
       "_31                                                e5ba7672   \n",
       "_32                                                7b06fafe   \n",
       "_33                                                85684dc0   \n",
       "_34                                                5840adea   \n",
       "_35                                                49f11974   \n",
       "_36                                                    None   \n",
       "_37                                                32c7478e   \n",
       "_38                                                f86b306c   \n",
       "_39                                                2bf691b1   \n",
       "_40                                                607ab79a   \n",
       "\n",
       "                                                          2  \\\n",
       "output                                                    1   \n",
       "features  [1452.0, 86.0, 0.0, 1.0, 970.0, 0.0, 0.0, 18.0...   \n",
       "_1                                                        1   \n",
       "_2                                                        0   \n",
       "_3                                                        1   \n",
       "_4                                                        3   \n",
       "_5                                                       20   \n",
       "_6                                                    17647   \n",
       "_7                                                       30   \n",
       "_8                                                        1   \n",
       "_9                                                        1   \n",
       "_10                                                      30   \n",
       "_11                                                       0   \n",
       "_12                                                       1   \n",
       "_13                                                       0   \n",
       "_14                                                      20   \n",
       "_15                                                05db9164   \n",
       "_16                                                f0cf0024   \n",
       "_17                                                98d504db   \n",
       "_18                                                dab52c65   \n",
       "_19                                                25c83c98   \n",
       "_20                                                fbad5c96   \n",
       "_21                                                457fd078   \n",
       "_22                                                0b153874   \n",
       "_23                                                a73ee510   \n",
       "_24                                                711ec2bc   \n",
       "_25                                                5f2b6964   \n",
       "_26                                                7e014e7c   \n",
       "_27                                                7a36be10   \n",
       "_28                                                07d13a8f   \n",
       "_29                                                d2988321   \n",
       "_30                                                a1614abe   \n",
       "_31                                                3486227d   \n",
       "_32                                                88b0e440   \n",
       "_33                                                21ddcdc9   \n",
       "_34                                                5840adea   \n",
       "_35                                                0e51cc30   \n",
       "_36                                                    None   \n",
       "_37                                                32c7478e   \n",
       "_38                                                6c1cdd05   \n",
       "_39                                                ea9a246c   \n",
       "_40                                                7e6f9939   \n",
       "\n",
       "                                                          3  \\\n",
       "output                                                    0   \n",
       "features  [598.0, 2133.0, 0.0, 1.0, 174.0, 1.0, 1.0, 560...   \n",
       "_1                                                        0   \n",
       "_2                                                        0   \n",
       "_3                                                       -1   \n",
       "_4                                                        0   \n",
       "_5                                                        0   \n",
       "_6                                                   311637   \n",
       "_7                                                        0   \n",
       "_8                                                        0   \n",
       "_9                                                        0   \n",
       "_10                                                       1   \n",
       "_11                                                       0   \n",
       "_12                                                       0   \n",
       "_13                                                       0   \n",
       "_14                                                       0   \n",
       "_15                                                3c9d8785   \n",
       "_16                                                38a947a1   \n",
       "_17                                                2ef73c34   \n",
       "_18                                                cf21074e   \n",
       "_19                                                25c83c98   \n",
       "_20                                                fbad5c96   \n",
       "_21                                                91282309   \n",
       "_22                                                5b392875   \n",
       "_23                                                7cc72ec2   \n",
       "_24                                                6f0d561c   \n",
       "_25                                                9e511730   \n",
       "_26                                                3c27afbf   \n",
       "_27                                                04e4a7e0   \n",
       "_28                                                f862f261   \n",
       "_29                                                f336fea0   \n",
       "_30                                                4a38bc4a   \n",
       "_31                                                3486227d   \n",
       "_32                                                d3f6d5f7   \n",
       "_33                                                    None   \n",
       "_34                                                    None   \n",
       "_35                                                63870616   \n",
       "_36                                                    None   \n",
       "_37                                                55dd3565   \n",
       "_38                                                1793a828   \n",
       "_39                                                    None   \n",
       "_40                                                    None   \n",
       "\n",
       "                                                          4  \n",
       "output                                                    0  \n",
       "features  [58.0, 69.0, 0.0, 1.0, 313.0, 2.0, 0.0, 1176.0...  \n",
       "_1                                                        0  \n",
       "_2                                                        4  \n",
       "_3                                                       64  \n",
       "_4                                                        4  \n",
       "_5                                                        2  \n",
       "_6                                                     1490  \n",
       "_7                                                       50  \n",
       "_8                                                        6  \n",
       "_9                                                       12  \n",
       "_10                                                      27  \n",
       "_11                                                       0  \n",
       "_12                                                       1  \n",
       "_13                                                       0  \n",
       "_14                                                       2  \n",
       "_15                                                05db9164  \n",
       "_16                                                39dfaa0d  \n",
       "_17                                                ae06bf90  \n",
       "_18                                                b125f81c  \n",
       "_19                                                25c83c98  \n",
       "_20                                                fbad5c96  \n",
       "_21                                                753aa291  \n",
       "_22                                                1f89b562  \n",
       "_23                                                a73ee510  \n",
       "_24                                                a384f95f  \n",
       "_25                                                d20ffd8f  \n",
       "_26                                                c15e7f3e  \n",
       "_27                                                6619af2b  \n",
       "_28                                                1adce6ef  \n",
       "_29                                                a9a633a3  \n",
       "_30                                                98334731  \n",
       "_31                                                e5ba7672  \n",
       "_32                                                75edcf1f  \n",
       "_33                                                21ddcdc9  \n",
       "_34                                                5840adea  \n",
       "_35                                                845453b6  \n",
       "_36                                                    None  \n",
       "_37                                                3a171ecb  \n",
       "_38                                                ce327ac7  \n",
       "_39                                                e8b83407  \n",
       "_40                                                09dd415c  "
      ]
     },
     "execution_count": 24,
     "metadata": {},
     "output_type": "execute_result"
    }
   ],
   "source": [
    "pipeline = Pipeline(stages = stages)\n",
    "pipelineModel = pipeline.fit(df)\n",
    "df = pipelineModel.transform(df)\n",
    "\n",
    "selectedCols = ['output', 'features'] + cols\n",
    "df = df.select(selectedCols)\n",
    "\n",
    "pd.DataFrame(df.take(5), columns=df.columns).transpose()"
   ]
  },
  {
   "cell_type": "markdown",
   "metadata": {},
   "source": [
    "#### Section 3.2.1.2 - Re-scaling Data"
   ]
  },
  {
   "cell_type": "markdown",
   "metadata": {},
   "source": [
    "As stated during EDA, all the column values should be on a uniform scale."
   ]
  },
  {
   "cell_type": "code",
   "execution_count": 25,
   "metadata": {},
   "outputs": [
    {
     "name": "stdout",
     "output_type": "stream",
     "text": [
      "+--------------------+--------------------+\n",
      "|            features|     Scaled_features|\n",
      "+--------------------+--------------------+\n",
      "|[156.0,220.0,0.0,...|[0.14742378229343...|\n",
      "|(37,[0,1,3,4,5,7,...|(37,[0,1,3,4,5,7,...|\n",
      "|[1452.0,86.0,0.0,...|[1.37217520442350...|\n",
      "|[598.0,2133.0,0.0...|[0.56512449879149...|\n",
      "|[58.0,69.0,0.0,1....|[0.05481140623730...|\n",
      "+--------------------+--------------------+\n",
      "only showing top 5 rows\n",
      "\n"
     ]
    }
   ],
   "source": [
    "standardscaler=StandardScaler().setInputCol(\"features\").setOutputCol(\"scaled_features\")\n",
    "df=standardscaler.fit(df).transform(df)\n",
    "df.select(\"features\",\"Scaled_features\").show(5)"
   ]
  },
  {
   "cell_type": "markdown",
   "metadata": {},
   "source": [
    "#### Section 3.2.1.2 - Test/Train Split"
   ]
  },
  {
   "cell_type": "markdown",
   "metadata": {},
   "source": [
    "Randomly spliting of train and test."
   ]
  },
  {
   "cell_type": "code",
   "execution_count": null,
   "metadata": {},
   "outputs": [],
   "source": [
    "train, test = df.randomSplit([0.7, 0.3], seed = 2019)"
   ]
  },
  {
   "cell_type": "markdown",
   "metadata": {},
   "source": [
    "#### Section 3.2.1.3 - Output Class Imbalance Check"
   ]
  },
  {
   "cell_type": "markdown",
   "metadata": {},
   "source": [
    "From the EDA, it was clear that the number of records with Label/Class 1 is much than the Label/Class 0. To balance the weight ratio with the Class count, the loss function in the LogisticRegression algorithm should put a higher weight on the Label/Class 1."
   ]
  },
  {
   "cell_type": "code",
   "execution_count": null,
   "metadata": {},
   "outputs": [],
   "source": [
    "dataset_size=float(train.select(\"output\").count())\n",
    "numPositives=train.select(\"output\").where('output == 1').count()\n",
    "per_ones=(float(numPositives)/float(dataset_size))*100\n",
    "numNegatives=float(dataset_size-numPositives)"
   ]
  },
  {
   "cell_type": "code",
   "execution_count": 28,
   "metadata": {},
   "outputs": [
    {
     "name": "stdout",
     "output_type": "stream",
     "text": [
      "BalancingRatio = 0.7419447640966629\n"
     ]
    }
   ],
   "source": [
    "#Calculate balance ratio\n",
    "\n",
    "BalancingRatio= numNegatives/dataset_size\n",
    "print('BalancingRatio = {}'.format(BalancingRatio))"
   ]
  },
  {
   "cell_type": "code",
   "execution_count": 29,
   "metadata": {},
   "outputs": [
    {
     "name": "stdout",
     "output_type": "stream",
     "text": [
      "+------------------+\n",
      "|      classWeights|\n",
      "+------------------+\n",
      "|0.2580552359033371|\n",
      "|0.2580552359033371|\n",
      "|0.2580552359033371|\n",
      "|0.2580552359033371|\n",
      "|0.2580552359033371|\n",
      "+------------------+\n",
      "only showing top 5 rows\n",
      "\n"
     ]
    }
   ],
   "source": [
    "train=train.withColumn(\"classWeights\", when(train.output == 1,BalancingRatio).otherwise(1-BalancingRatio))\n",
    "train.select(\"classWeights\").show(5)"
   ]
  },
  {
   "cell_type": "markdown",
   "metadata": {},
   "source": [
    "#### Section 3.2.1.4 - Feature Selection\n",
    "\n",
    "Initially, to narrow down to a number of significant features, the ChiSqSelector had been used. However, without any feature selection, the algorithm performance became better. So, it is not during actual data processing. "
   ]
  },
  {
   "cell_type": "code",
   "execution_count": 30,
   "metadata": {},
   "outputs": [
    {
     "name": "stdout",
     "output_type": "stream",
     "text": [
      "+--------------------------------------------------------------------------------------------------------------------------------------------------------------------------------------------------------------------------------------------------------------------------------------------------------------------------------------------------------------------------------------------------------------------------------------------------------------------------------------------------------------------------------------------+\n",
      "|Aspect                                                                                                                                                                                                                                                                                                                                                                                                                                                                                                                                      |\n",
      "+--------------------------------------------------------------------------------------------------------------------------------------------------------------------------------------------------------------------------------------------------------------------------------------------------------------------------------------------------------------------------------------------------------------------------------------------------------------------------------------------------------------------------------------------+\n",
      "|(37,[0,1,2,3,4,5,6,8,9,10,12,13,14,15,17,18,19,20,21,23,25,26,31],[0.0548114062373026,0.09093805184309219,0.29442709179974114,0.8451700778139993,0.2218625959533514,0.5554389800013806,3.2163025510865704,0.3567319948089193,0.0566185226989561,0.4135554349218633,0.129230779108912,0.07407582499718376,3.431271866454257,0.15138981514070887,0.8444212875583128,0.06382205451406325,0.443399859228046,2.0205158119347577,0.11934584009833604,0.03866458330341531,0.2231112784641504,0.03786320681056098,0.4432558483853768])              |\n",
      "|(37,[0,1,2,3,4,5,6,8,9,10,12,13,14,15,18,21,22,23,26,27,31,32,36],[0.007560193963765876,0.0171332561443507,1.4721354589987057,0.42258503890699967,0.017308429471538052,0.18514632666712685,3.2163025510865704,0.05450072142914045,0.008939766741940436,0.014983892569632729,0.3848205422354269,0.010893503676056435,3.431271866454257,0.49341865675490293,0.010293879760332783,0.03471878984678867,0.12110568911220887,0.011599374991024593,2.68828768354983,0.23345393457243283,0.4432558483853768,0.02894486498463996,0.5625577729533843])|\n",
      "|(37,[0,1,2,3,4,6,7,8,9,10,12,13,14,15,18,19,21,23,25,28],[0.010395266700178079,0.015815313364016034,0.29442709179974114,1.267755116720999,1.0998720182368271,3.2163025510865704,0.5756913961367119,0.007431916558519152,0.011919688989253916,0.008990335541779637,0.06605128710011059,0.014161554778873367,2.1445449165339108,0.050463271713569624,0.01338204368843262,2.660399155368276,0.017359394923394333,0.003866458330341531,-0.0025068682973500046,2.055129180053745])                                                               |\n",
      "|(37,[0,1,2,3,4,6,7,8,9,10,12,13,15,17,18,19,21,23,25,26,28,31],[0.007560193963765876,0.0171332561443507,0.5888541835994823,0.42258503890699967,0.040910833296362664,3.2163025510865704,0.42295694410044143,0.07679647110469791,0.008939766741940436,0.0719226843342371,0.129230779108912,0.010893503676056435,0.15138981514070887,0.8444212875583128,0.010293879760332783,2.660399155368276,0.03471878984678867,0.011599374991024593,0.017548078081450032,0.18931603405280492,0.37560198863619254,0.2216279241926884])                      |\n",
      "|(37,[0,1,2,3,4,6,8,9,10,11,12,13,14,15,16,18,19,20,21,23,26,31,32],[0.36477935875170353,2.6490649884726856,0.29442709179974114,2.9580952723489977,0.37134448684390725,3.2163025510865704,0.18827521948248518,0.6456498202512537,0.14983892569632729,0.4665686321584286,0.21538463184818668,1.6754208653774798,3.431271866454257,0.12335466418872573,0.1745520173138296,1.930102455062397,2.660399155368276,2.0205158119347577,1.421300459352911,0.6862963536356218,0.18931603405280492,0.2216279241926884,0.00482414416410666])             |\n",
      "+--------------------------------------------------------------------------------------------------------------------------------------------------------------------------------------------------------------------------------------------------------------------------------------------------------------------------------------------------------------------------------------------------------------------------------------------------------------------------------------------------------------------------------------------+\n",
      "only showing top 5 rows\n",
      "\n"
     ]
    }
   ],
   "source": [
    "css = ChiSqSelector(featuresCol='scaled_features',outputCol='Aspect',labelCol='output',fpr=0.05)\n",
    "train=css.fit(train).transform(train)\n",
    "test=css.fit(test).transform(test)\n",
    "test.select(\"Aspect\").show(5,truncate=False)"
   ]
  },
  {
   "cell_type": "markdown",
   "metadata": {},
   "source": [
    "#### Section 3.2.2 - Train and Test with ML Algorithms"
   ]
  },
  {
   "cell_type": "markdown",
   "metadata": {},
   "source": [
    "This is a binary classification problem and spark mllib classifiers have been chosen for the training."
   ]
  },
  {
   "cell_type": "markdown",
   "metadata": {},
   "source": [
    "#### Logistic Regression"
   ]
  },
  {
   "cell_type": "code",
   "execution_count": null,
   "metadata": {},
   "outputs": [],
   "source": [
    "lr = LogisticRegression(maxIter=10, featuresCol=\"scaled_features\", labelCol=\"output\", \n",
    "                        weightCol=\"classWeights\", predictionCol=\"prediction\")\n",
    "\n",
    "# Fit the model\n",
    "lrModel = lr.fit(train)\n",
    "\n",
    "predict_train=lrModel.transform(train)\n",
    "predict_test=lrModel.transform(test)"
   ]
  },
  {
   "cell_type": "markdown",
   "metadata": {},
   "source": [
    "Evaluate the model"
   ]
  },
  {
   "cell_type": "code",
   "execution_count": null,
   "metadata": {},
   "outputs": [],
   "source": [
    "trainingSummary = lrModel.summary\n",
    "roc = trainingSummary.roc.toPandas()\n",
    "plt.plot(roc['FPR'],roc['TPR'])\n",
    "plt.ylabel('False Positive Rate')\n",
    "plt.xlabel('True Positive Rate')\n",
    "plt.title('ROC Curve')\n",
    "plt.show()\n",
    "print('Training set areaUnderROC: ' + str(trainingSummary.areaUnderROC))"
   ]
  },
  {
   "cell_type": "code",
   "execution_count": 6,
   "metadata": {},
   "outputs": [
    {
     "data": {
      "image/png": "[encoded data removed]",
      "text/plain": [
       "<IPython.core.display.Image object>"
      ]
     },
     "execution_count": 6,
     "metadata": {},
     "output_type": "execute_result"
    }
   ],
   "source": [
    "Image(\"images/lr-fp-fn.png\")"
   ]
  },
  {
   "cell_type": "markdown",
   "metadata": {},
   "source": [
    "From the ROC curve above, it is clear the classifier has a good number of Type 1 and Type 2 errors."
   ]
  },
  {
   "cell_type": "code",
   "execution_count": null,
   "metadata": {},
   "outputs": [],
   "source": [
    "pr = trainingSummary.pr.toPandas()\n",
    "plt.plot(pr['recall'],pr['precision'])\n",
    "plt.ylabel('Precision')\n",
    "plt.xlabel('Recall')\n",
    "plt.show()"
   ]
  },
  {
   "cell_type": "code",
   "execution_count": 7,
   "metadata": {},
   "outputs": [
    {
     "data": {
      "image/png": "[encoded data removed]",
      "text/plain": [
       "<IPython.core.display.Image object>"
      ]
     },
     "execution_count": 7,
     "metadata": {},
     "output_type": "execute_result"
    }
   ],
   "source": [
    "Image(\"images/lr-prec-recall.png\")"
   ]
  },
  {
   "cell_type": "code",
   "execution_count": null,
   "metadata": {},
   "outputs": [],
   "source": [
    "evaluator = BinaryClassificationEvaluator(rawPredictionCol = 'rawPrediction', labelCol = 'output')\n",
    "\n",
    "print(\"The area under ROC for train set is {}\".format(evaluator.evaluate(predict_train)))\n",
    "print(\"The area under ROC for test set is {}\".format(evaluator.evaluate(predict_test)))"
   ]
  },
  {
   "cell_type": "markdown",
   "metadata": {},
   "source": [
    "The area under ROC for train set is 0.7089600724140556 <br>\n",
    "The area under ROC for test set is 0.6908602650546408"
   ]
  },
  {
   "cell_type": "markdown",
   "metadata": {},
   "source": [
    "The ROC value indicates the model has a roughly 70% chance of identifying TRUE-Positive and TRUE-Negative. With hyper-parameter tuning, we will determine if there is a possibility to improve the performance."
   ]
  },
  {
   "cell_type": "code",
   "execution_count": null,
   "metadata": {},
   "outputs": [],
   "source": [
    "paramGrid = ParamGridBuilder()\\\n",
    "    .addGrid(lr.aggregationDepth,[2,10])\\\n",
    "    .addGrid(lr.elasticNetParam,[0.0, 0.5])\\\n",
    "    .addGrid(lr.maxIter,[10, 100])\\\n",
    "    .addGrid(lr.regParam,[0.0, 0.01, 0.5]) \\\n",
    "    .build()"
   ]
  },
  {
   "cell_type": "code",
   "execution_count": null,
   "metadata": {},
   "outputs": [],
   "source": [
    "cv = CrossValidator(estimator=lr, estimatorParamMaps=paramGrid, evaluator=evaluator, numFolds=3)\n",
    "# Run cross validations\n",
    "cvModel = cv.fit(train)\n",
    "# this will likely take a fair amount of time because of the amount of models that we're creating and testing\n",
    "predict_train=cvModel.transform(train)\n",
    "predict_test=cvModel.transform(test)\n",
    "print(\"The area under ROC for train set after CV  is {}\".format(evaluator.evaluate(predict_train)))\n",
    "print(\"The area under ROC for test set after CV  is {}\".format(evaluator.evaluate(predict_test)))"
   ]
  },
  {
   "cell_type": "markdown",
   "metadata": {},
   "source": [
    "The area under ROC for train set after CV  is 0.7101656765496804 <br>\n",
    "The area under ROC for test set after CV  is 0.6967054173448046"
   ]
  },
  {
   "cell_type": "code",
   "execution_count": null,
   "metadata": {},
   "outputs": [],
   "source": [
    "print('Best Parameter Combinations - \\n')\n",
    "\n",
    "for key, value in cvModel.bestModel.extractParamMap().items():\n",
    "    if 'regParam' in str(key):\n",
    "        print('regParam: ' + str(value))\n",
    "    elif 'aggregationDepth' in str(key):\n",
    "        print('aggregationDepth: ' + str(value))\n",
    "    elif 'elasticNetParam' in str(key):\n",
    "        print('elasticNetParam: ' + str(value))\n",
    "    elif 'maxIter' in str(key):\n",
    "        print('maxIter: ' + str(value))"
   ]
  },
  {
   "cell_type": "markdown",
   "metadata": {},
   "source": [
    "Even after tuning, the model fails to improve much. Best Parameter Combinations are      \n",
    "\n",
    "aggregationDepth: 2  \n",
    "elasticNetParam: 0.5  \n",
    "maxIter: 100  \n",
    "regParam: 0.01  "
   ]
  },
  {
   "cell_type": "markdown",
   "metadata": {},
   "source": [
    "#### RandomForest Classifier"
   ]
  },
  {
   "cell_type": "code",
   "execution_count": null,
   "metadata": {},
   "outputs": [],
   "source": [
    "rf = RandomForestClassifier(numTrees=10, featuresCol=\"scaled_features\", labelCol=\"output\", predictionCol=\"prediction\")\n",
    "rfModel = rf.fit(train)\n",
    "predictions = rfModel.transform(test)"
   ]
  },
  {
   "cell_type": "code",
   "execution_count": null,
   "metadata": {},
   "outputs": [],
   "source": [
    "evaluator = BinaryClassificationEvaluator(labelCol = 'output')\n",
    "print(\"Test Area Under ROC: \" + str(evaluator.evaluate(predictions, {evaluator.metricName: \"areaUnderROC\"})))"
   ]
  },
  {
   "cell_type": "markdown",
   "metadata": {},
   "source": [
    "Test Area Under ROC: 0.7170483608463148"
   ]
  },
  {
   "cell_type": "code",
   "execution_count": null,
   "metadata": {},
   "outputs": [],
   "source": [
    "paramGrid = ParamGridBuilder() \\\n",
    "    .addGrid(rf.numTrees, [10, 20]) \\\n",
    "    .addGrid(rf.maxDepth, [5, 10]) \\\n",
    "    .build()"
   ]
  },
  {
   "cell_type": "code",
   "execution_count": null,
   "metadata": {},
   "outputs": [],
   "source": [
    "cv = CrossValidator(estimator=rf, estimatorParamMaps=paramGrid, evaluator=evaluator, numFolds=3)\n",
    "# Run cross validations\n",
    "cvModel = cv.fit(train)\n",
    "# this will likely take a fair amount of time because of the amount of models that we're creating and testing\n",
    "predict_train=cvModel.transform(train)\n",
    "predict_test=cvModel.transform(test)\n",
    "print(\"The area under ROC for train set after CV  is {}\".format(evaluator.evaluate(predict_train)))\n",
    "print(\"The area under ROC for test set after CV  is {}\".format(evaluator.evaluate(predict_test)))"
   ]
  },
  {
   "cell_type": "markdown",
   "metadata": {},
   "source": [
    "The area under ROC for train set after CV  is 0.7954825939552024  \n",
    "The area under ROC for test set after CV  is 0.7308904905835857"
   ]
  },
  {
   "cell_type": "code",
   "execution_count": null,
   "metadata": {},
   "outputs": [],
   "source": [
    "print('Best Parameter Combinations - \\n')\n",
    "\n",
    "for key, value in cvModel.bestModel.extractParamMap().items():\n",
    "    if 'numTrees' in str(key):\n",
    "        print('numTrees: ' + str(value))\n",
    "    elif 'maxDepth' in str(key):\n",
    "        print('maxDepth: ' + str(value))"
   ]
  },
  {
   "cell_type": "markdown",
   "metadata": {},
   "source": [
    "Compare to LogisticRegression, the RandomForest model has less the Type 1 and Type 2 errors. For the training set, there is almost 80% chance of classifying positive and negative cases. However, the ROC value for the test data is much less compared to the train data and the model might be leaning towards overfitting. For now, we will analyze further before introducing regularization parameters. Best Parameter Combinations -   \n",
    "\n",
    "maxDepth: 5  \n",
    "numTrees: 20  "
   ]
  },
  {
   "cell_type": "markdown",
   "metadata": {},
   "source": [
    "#### Gradient-Boosted Tree Classifier"
   ]
  },
  {
   "cell_type": "code",
   "execution_count": null,
   "metadata": {},
   "outputs": [],
   "source": [
    "gbt = GBTClassifier(maxIter=10, featuresCol=\"scaled_features\", labelCol=\"output\", predictionCol=\"prediction\")\n",
    "gbtModel = gbt.fit(train)\n",
    "predictions = gbtModel.transform(test)"
   ]
  },
  {
   "cell_type": "code",
   "execution_count": null,
   "metadata": {},
   "outputs": [],
   "source": [
    "evaluator = BinaryClassificationEvaluator(labelCol = 'output')\n",
    "print(\"Test Area Under ROC: \" + str(evaluator.evaluate(predictions, {evaluator.metricName: \"areaUnderROC\"})))"
   ]
  },
  {
   "cell_type": "markdown",
   "metadata": {},
   "source": [
    "Test Area Under ROC: 0.7142571495001185"
   ]
  },
  {
   "cell_type": "code",
   "execution_count": null,
   "metadata": {},
   "outputs": [],
   "source": [
    "paramGrid = ParamGridBuilder() \\\n",
    "    .addGrid(gbt.maxIter, [10, 20]) \\\n",
    "    .addGrid(gbt.maxDepth, [5, 10]) \\\n",
    "    .build()"
   ]
  },
  {
   "cell_type": "code",
   "execution_count": null,
   "metadata": {},
   "outputs": [],
   "source": [
    "cv = CrossValidator(estimator=gbt, estimatorParamMaps=paramGrid, evaluator=evaluator, numFolds=3)\n",
    "# Run cross validations\n",
    "cvModel = cv.fit(train)\n",
    "# this will likely take a fair amount of time because of the amount of models that we're creating and testing\n",
    "predict_train=cvModel.transform(train)\n",
    "predict_test=cvModel.transform(test)\n",
    "print(\"The area under ROC for train set after CV  is {}\".format(evaluator.evaluate(predict_train)))\n",
    "print(\"The area under ROC for test set after CV  is {}\".format(evaluator.evaluate(predict_test)))"
   ]
  },
  {
   "cell_type": "markdown",
   "metadata": {},
   "source": [
    "The area under ROC for train set after CV  is 0.8872641258635169  \n",
    "The area under ROC for test set after CV  is 0.7191839107184387"
   ]
  },
  {
   "cell_type": "code",
   "execution_count": null,
   "metadata": {},
   "outputs": [],
   "source": [
    "print('Best Parameter Combinations - \\n')\n",
    "\n",
    "for key, value in cvModel.bestModel.extractParamMap().items():\n",
    "    if 'maxIter' in str(key):\n",
    "        print('maxIter: ' + str(value))\n",
    "    elif 'maxDepth' in str(key):\n",
    "        print('maxDepth: ' + str(value))"
   ]
  },
  {
   "cell_type": "markdown",
   "metadata": {},
   "source": [
    "The ROC value for this model is much better than RandomForest and LogisticRegression, but test data performance did not improve. We will continue to do tuning for better performance in unseen data. Best Parameter Combinations -   \n",
    "maxIter: 20  \n",
    "maxDepth: 5  "
   ]
  },
  {
   "cell_type": "markdown",
   "metadata": {},
   "source": [
    "#### LinearSVC"
   ]
  },
  {
   "cell_type": "code",
   "execution_count": null,
   "metadata": {},
   "outputs": [],
   "source": [
    "sv = LinearSVC(maxIter=10, regParam=0.1,\n",
    "                     featuresCol=\"scaled_features\", labelCol=\"output\", predictionCol=\"prediction\")\n",
    "svModel = sv.fit(train)\n",
    "predictions = svModel.transform(test)"
   ]
  },
  {
   "cell_type": "code",
   "execution_count": null,
   "metadata": {},
   "outputs": [],
   "source": [
    "evaluator = BinaryClassificationEvaluator(labelCol = 'output')\n",
    "print(\"Test Area Under ROC: \" + str(evaluator.evaluate(predictions, {evaluator.metricName: \"areaUnderROC\"})))"
   ]
  },
  {
   "cell_type": "markdown",
   "metadata": {},
   "source": [
    "Test Area Under ROC: 0.6627900488258549"
   ]
  },
  {
   "cell_type": "code",
   "execution_count": null,
   "metadata": {},
   "outputs": [],
   "source": [
    "paramGrid = ParamGridBuilder() \\\n",
    "    .addGrid(sv.maxIter, [10, 100]) \\\n",
    "    .addGrid(sv.regParam, [0.0, 0.01, 0.5]) \\\n",
    "    .addGrid(sv.aggregationDepth, [2, 5]) \\\n",
    "    .build()"
   ]
  },
  {
   "cell_type": "code",
   "execution_count": null,
   "metadata": {},
   "outputs": [],
   "source": [
    "cv = CrossValidator(estimator=sv, estimatorParamMaps=paramGrid, evaluator=evaluator, numFolds=3)\n",
    "# Run cross validations\n",
    "cvModel = cv.fit(train)\n",
    "# this will likely take a fair amount of time because of the amount of models that we're creating and testing\n",
    "predict_train=cvModel.transform(train)\n",
    "predict_test=cvModel.transform(test)\n",
    "print(\"The area under ROC for train set after CV  is {}\".format(evaluator.evaluate(predict_train)))\n",
    "print(\"The area under ROC for test set after CV  is {}\".format(evaluator.evaluate(predict_test)))"
   ]
  },
  {
   "cell_type": "markdown",
   "metadata": {},
   "source": [
    "The area under ROC for train set after CV  is 0.68813800514662  \n",
    "The area under ROC for test set after CV  is 0.6758126017205318"
   ]
  },
  {
   "cell_type": "code",
   "execution_count": null,
   "metadata": {},
   "outputs": [],
   "source": [
    "print('Best Parameter Combinations - \\n')\n",
    "\n",
    "for key, value in cvModel.bestModel.extractParamMap().items():\n",
    "    if 'maxIter' in str(key):\n",
    "        print('maxIter: ' + str(value))\n",
    "    elif 'regParam' in str(key):\n",
    "        print('regParam: ' + str(value))\n",
    "    elif 'aggregationDepth' in str(key):\n",
    "        print('aggregationDepth: ' + str(value))"
   ]
  },
  {
   "cell_type": "markdown",
   "metadata": {},
   "source": [
    "Although ROC value for this model is low, with a moderate regularization parameter value, the model produces a robust performance with the test data. Best Parameter Combinations -   \n",
    "\n",
    "maxIter: 100  \n",
    "regParam: 0.01  \n",
    "aggregationDepth: 2  "
   ]
  },
  {
   "cell_type": "markdown",
   "metadata": {},
   "source": [
    "### Section 3.3 - Challenges"
   ]
  },
  {
   "cell_type": "markdown",
   "metadata": {},
   "source": [
    "#### Section 3.3.1 - EDA and train/test setup\n",
    "\n",
    "In our EDA, one of our considerations was whether to use the entire dataset or just a subset of data. On the one hand, we could obtain a complete overview of our samples by considering all samples. However, this could lead to longer times for our EDA (a little over 4 times as much time taking into account the increased communication time involved with partitioning more keys). We felt that it would be more prudent to consider 25% of the sample size for our EDA to make our EDA jobs run faster, taking into account that 25% of the sample size is still representative of the entire sample. \n",
    "\n",
    "Upon exploring the number, type, and distribution of columns, we saw that we had 14 numeric columns and 26 string columns. We initially explored on-hot encoding the string columns in our EDA. However, the expansion of columns with one-hot encoding was making the size of the data too large and Spark cluster was running out of memory In order to tackle this, we attempted to increase the memory allocated to the executor in spark to 128GB. However, this increase in memory resulted in slower speeds and was still not enough to tackle our memory issues. Finally, we used an alternate solution of encoding string columns as one numeric column with the StringIndexer method in the ml module in Spark. This helped us condense data in each string column into 1 column.\n",
    "\n",
    "Upon looking at the results of our EDA, we noticed that there are a lot of columns and some columns are fairly skewed even after using the standard scaler function in Spark. We decided to use a Chi-Square Selected provided by the MlLib module in Spark, which selected columns based on independence, to select columns with the most predictive power.   \n",
    "\n",
    "#### Section 3.3.2 - Model Selection\n",
    "\n",
    "We considered 4 different classification algorithms in the mllib module of Spark for our algorithms. These were: Logistic Regression, Random Forest, Gradient Boosted Trees, and Linear Support Vector Classification. We did not try a Naive Bayes Classifier as some of the features were highly skewed and this could make training a Naive Bayes classifier problematic. We wanted to test the entire range of classification algorithms to test the best performing model based on the AUC metric of the ROC curve. \n",
    "\n",
    "We felt logistic regression was the simplest method to approach the classification problem. As it was simple, it would also be the one that is most efficient. However, logistic regression would not have the same power to address overfitting as some other algorithms such as Naive Bayes or Random Forests would.\n",
    "\n",
    "For Random Forest and Gradient Boosted Trees(GBT), we recognized that increasing the number of trees in GBT's can lead to an increase in training time and lead to overfitting. At the same time, we wished to keep training times for the Random Forest at a manageable range. This led us to decide on iterations of 10 and number of trees of 10 for GBTs and Random Forests respectively.\n",
    "\n",
    "For a Linear Support Vector Classifier, we felt it could offer a flexible model which may help counteract the skew in our data, however, we felt it could be lacking in revealing the reasons behind the classifications predicted by the model. \n",
    "\n",
    "With these considerations in mind, we went on to test our models on the classification task."
   ]
  },
  {
   "cell_type": "markdown",
   "metadata": {},
   "source": [
    "# __Section 4__ - Algorithm Implementation (Cloud Processing with Full Data)"
   ]
  },
  {
   "cell_type": "markdown",
   "metadata": {},
   "source": [
    "After the exploratory data analysis and hyper-parameter tuning on the sample data, we will run through all the classifiers with the entire data source. In this section, we utilize similar data processing techniques and the best set of model parameters from the cross validator outputs."
   ]
  },
  {
   "cell_type": "markdown",
   "metadata": {},
   "source": [
    "### Section 4.1 - File and Data Pre-processing"
   ]
  },
  {
   "cell_type": "code",
   "execution_count": null,
   "metadata": {},
   "outputs": [],
   "source": [
    "BUCKET_BASE_PATH = 'gs://w261FinalProj/projdata/'\n",
    "DATABRICKS_NS = \"com.databricks.spark.csv\""
   ]
  },
  {
   "cell_type": "markdown",
   "metadata": {},
   "source": [
    "#### Section 4.1.1 - Generate Dataframe from Input Text data"
   ]
  },
  {
   "cell_type": "code",
   "execution_count": null,
   "metadata": {},
   "outputs": [],
   "source": [
    "#Read input data as an RDD\n",
    "train_tmp_rdd = sc.textFile(BUCKET_BASE_PATH + 'dac/train.txt')\n",
    "\n",
    "#Format the tab delimited item before converting to dataframe\n",
    "rdd_train = train_tmp_rdd.map(lambda r : r.split('\\t'))\n",
    "\n",
    "#Convert the RDD to a dataframe\n",
    "df_train = rdd_train.toDF()\n",
    "\n",
    "#Saves \n",
    "df_train.write.format(DATABRICKS_NS).option(\"header\", \"true\").save(BUCKET_BASE_PATH + \"dac/train.csv\")"
   ]
  },
  {
   "cell_type": "markdown",
   "metadata": {},
   "source": [
    "#### Section 4.1.2 - Split Input Dataframe by Columns"
   ]
  },
  {
   "cell_type": "code",
   "execution_count": null,
   "metadata": {},
   "outputs": [],
   "source": [
    "#Read csv as a dataframe\n",
    "df_train = spark.read.csv(BUCKET_BASE_PATH + 'dac/train.csv', header = True, inferSchema = True)\n",
    "\n",
    "#Get all the columns of the dataframe\n",
    "cols = df_train.columns\n",
    "\n",
    "#Iterate columns and generate dataframes for each\n",
    "for col in cols:\n",
    "    df_with_one_col = df_train.select(col)\n",
    "    df_with_one_col.write.format(DATABRICKS_NS).option(\"header\", \"true\").save(BUCKET_BASE_PATH + \"split_df/train\" + col + \".csv\")"
   ]
  },
  {
   "cell_type": "markdown",
   "metadata": {},
   "source": [
    "#### Section 4.1.3 - Generate StringIndexer for each Categorical Column"
   ]
  },
  {
   "cell_type": "code",
   "execution_count": null,
   "metadata": {},
   "outputs": [],
   "source": [
    "#Convert categorical string values to ordered numeric frequencies\n",
    "def get_cat_col_indexed(t_data, index_col):\n",
    "    #Keep the unseen label and create a new frequency index\n",
    "    indexer = StringIndexer(inputCol=t_data.columns[0], outputCol= index_col).setHandleInvalid(\"keep\")\n",
    "    \n",
    "    t_data = indexer.fit(t_data).transform(t_data)\n",
    "    \n",
    "    #Return a dataframe with only indexed column\n",
    "    t_data = t_data.select(index_col)\n",
    "    \n",
    "    return t_data\n",
    "\n",
    "\n",
    "def pre_process_each_split_df(t_data, index_col):    \n",
    "    #Fill missing values\n",
    "    t_data = fill_missing_val(t_data)\n",
    "    \n",
    "    return get_cat_col_indexed(t_data, index_col)\n",
    "\n",
    "#Convert each categorical string values to numerical frequencies with StringIndexer\n",
    "def indexed_all_dfs(cols):\n",
    "    #Read each dataframe by categorical columns and save each of them after processing\n",
    "    for c in cols:\n",
    "        df_train = spark.read.csv(BUCKET_BASE_PATH + \"split_df/train\" + c + \".csv\", header = True, inferSchema = True)\n",
    "        index_col = df_train.columns[0] + \"Index\"\n",
    "        df_train = pre_process_each_split_df(df_train, index_col)\n",
    "        df_train.write.format(DATABRICKS_NS).option(\"header\", \"true\").save(BUCKET_BASE_PATH + \"split_df_indx/train_p_\" + c + \".csv\")\n",
    "        \n",
    "    #Process the output column\n",
    "    df_train = spark.read.csv(BUCKET_BASE_PATH + \"split_df/train_1.csv\", header = True, inferSchema = True)\n",
    "    df_train = get_cat_col_indexed(df_train, \"output\")\n",
    "    df_train.write.format(DATABRICKS_NS).option(\"header\", \"true\").save(BUCKET_BASE_PATH + \"split_df_indx/train_p_output.csv\")"
   ]
  },
  {
   "cell_type": "code",
   "execution_count": null,
   "metadata": {},
   "outputs": [],
   "source": [
    "#Get columns and stages\n",
    "num_cols, cat_cols = get_columns()\n",
    "\n",
    "indexed_all_dfs(cat_cols)"
   ]
  },
  {
   "cell_type": "markdown",
   "metadata": {},
   "source": [
    "#### Section 4.1.4 - Generate Vector Assembler Column"
   ]
  },
  {
   "cell_type": "code",
   "execution_count": null,
   "metadata": {},
   "outputs": [],
   "source": [
    "def print_to_output_file(p_txt):\n",
    "    print(p_txt)\n",
    "\n",
    "#Get all the numerical and categorical columns and create a vector for the ML algos\n",
    "def get_vect_assem(t_data, cols):    \n",
    "    assembler = VectorAssembler(inputCols=cols, outputCol=\"features\")\n",
    "\n",
    "    return assembler.transform(t_data)\n",
    "\n",
    "#Read each indexed (categorical) / numeric columns and generate a vector column\n",
    "def assemble_all_dfs():    \n",
    "    num_cols, cat_cols = get_columns()\n",
    "    cat_indexed_col = []\n",
    "    \n",
    "    #Read and join each dataframes with auto-generated id columns\n",
    "    df_train = spark.read.csv(BUCKET_BASE_PATH + \"split_df_indx/train_p_output.csv\", header = True, inferSchema = True)\n",
    "    df_train = df_train.withColumn(\"id\", monotonically_increasing_id())\n",
    "    \n",
    "    for nc in num_cols:\n",
    "        df1 = spark.read.csv(BUCKET_BASE_PATH + \"split_df/train\" + nc + \".csv\", header = True, inferSchema = True)\n",
    "        df1 = df1.withColumn(\"id\", monotonically_increasing_id())\n",
    "        df_train = df_train.join(df1, \"id\", \"outer\")\n",
    "        \n",
    "    for c in cat_cols:\n",
    "        df1 = spark.read.csv(BUCKET_BASE_PATH + \"split_df_indx/train_p_\" + c + \".csv\", header = True, inferSchema = True)\n",
    "        df1 = df1.withColumn(\"id\", monotonically_increasing_id())\n",
    "        df_train = df_train.join(df1, \"id\", \"outer\")\n",
    "        cat_indexed_col.append(df1.columns[0])\n",
    "    \n",
    "    #After joining all the dataframes, remove the id column \n",
    "    df_train = df_train.drop('id')\n",
    "    \n",
    "    all_c = num_cols + cat_indexed_col\n",
    "        \n",
    "    df_train = fill_missing_val(df_train)\n",
    "    \n",
    "    df_train = get_vect_assem(df_train, all_c).select(['features', 'output'])\n",
    "        \n",
    "    return df_train  \n"
   ]
  },
  {
   "cell_type": "code",
   "execution_count": null,
   "metadata": {},
   "outputs": [],
   "source": [
    "t0 = time.time()\n",
    "\n",
    "df_tn = assemble_all_dfs()\n",
    "t1 = time.time()\n",
    "print_to_output_file('Runtime - assemble all - ' + str(float(t1 - t0)))"
   ]
  },
  {
   "cell_type": "markdown",
   "metadata": {},
   "source": [
    "Runtime - assemble all - 297.4144537448883"
   ]
  },
  {
   "cell_type": "markdown",
   "metadata": {},
   "source": [
    "#### Section - 4.1.5 - Standardize Scales for all the Values"
   ]
  },
  {
   "cell_type": "code",
   "execution_count": null,
   "metadata": {},
   "outputs": [],
   "source": [
    "def run_standard_scaler(t_data):\n",
    "    standardscaler=StandardScaler().setInputCol(\"features\").setOutputCol(\"scaled_features\")\n",
    "    t_data = standardscaler.fit(t_data).transform(t_data)\n",
    "    \n",
    "    return t_data"
   ]
  },
  {
   "cell_type": "code",
   "execution_count": null,
   "metadata": {},
   "outputs": [],
   "source": [
    "t0 = time.time()\n",
    "\n",
    "df_tn = run_standard_scaler(df_tn)\n",
    "\n",
    "t1 = time.time()\n",
    "print_to_output_file('Runtime - standard scaler - ' + str(float(t1 - t0)))"
   ]
  },
  {
   "cell_type": "markdown",
   "metadata": {},
   "source": [
    "Runtime - standard scaler - 1022.7532405853271"
   ]
  },
  {
   "cell_type": "markdown",
   "metadata": {},
   "source": [
    "#### Section - 4.1.6 - Test-Train split"
   ]
  },
  {
   "cell_type": "code",
   "execution_count": null,
   "metadata": {},
   "outputs": [],
   "source": [
    "def train_test_split(t_data):\n",
    "    train, test = t_data.randomSplit([0.7, 0.3], seed = 2019)\n",
    "    print(\"Training Dataset Count: \" + str(train.count()))\n",
    "    print(\"Test Dataset Count: \" + str(test.count()))\n",
    "    \n",
    "    return train, test"
   ]
  },
  {
   "cell_type": "code",
   "execution_count": null,
   "metadata": {},
   "outputs": [],
   "source": [
    "t0 = time.time()\n",
    "\n",
    "train, test = train_test_split(df_tn)\n",
    "\n",
    "t1 = time.time()\n",
    "print_to_output_file('Runtime - test train split - ' + str(float(t1 - t0)))"
   ]
  },
  {
   "cell_type": "markdown",
   "metadata": {},
   "source": [
    "Training Dataset Count: 32195163 <br>\n",
    "Test Dataset Count: 13799653 <br>\n",
    "Runtime - test train split - 2079.2427320480347"
   ]
  },
  {
   "cell_type": "markdown",
   "metadata": {},
   "source": [
    "#### Section - 4.1.7 - Balance Train Data Weight Ratio"
   ]
  },
  {
   "cell_type": "code",
   "execution_count": null,
   "metadata": {},
   "outputs": [],
   "source": [
    "def get_balance_weight_ratio_data(t_data):\n",
    "    dataset_size=float(t_data.select(\"output\").count())\n",
    "    numPositives=t_data.select(\"output\").where('output == 1').count()\n",
    "    per_ones=(float(numPositives)/float(dataset_size))*100\n",
    "    numNegatives=float(dataset_size-numPositives)\n",
    "    \n",
    "    #Rebalance data\n",
    "    BalancingRatio = numNegatives/dataset_size\n",
    "    \n",
    "    return t_data.withColumn(\"classWeights\", when(t_data.output == 1,BalancingRatio).otherwise(1-BalancingRatio))"
   ]
  },
  {
   "cell_type": "code",
   "execution_count": null,
   "metadata": {},
   "outputs": [],
   "source": [
    "t0 = time.time()\n",
    "\n",
    "train = get_balance_weight_ratio_data(train)\n",
    "\n",
    "t1 = time.time()\n",
    "print_to_output_file('Runtime - get balanced train data - ' + str(float(t1 - t0)))"
   ]
  },
  {
   "cell_type": "markdown",
   "metadata": {},
   "source": [
    "Runtime - get balanced train data - 2556.4728071689606"
   ]
  },
  {
   "cell_type": "markdown",
   "metadata": {},
   "source": [
    "### Section - 4.2 - Run Classification Algorithms"
   ]
  },
  {
   "cell_type": "markdown",
   "metadata": {},
   "source": [
    "#### Section - 4.2.1 - Print Performance"
   ]
  },
  {
   "cell_type": "code",
   "execution_count": null,
   "metadata": {},
   "outputs": [],
   "source": [
    "def print_perf_summary(trainingSummary):\n",
    "    print_to_output_file('Training set areaUnderROC: ' + str(trainingSummary.areaUnderROC))\n",
    "    \n",
    "    accuracy = trainingSummary.accuracy\n",
    "    falsePositiveRate = trainingSummary.weightedFalsePositiveRate\n",
    "    truePositiveRate = trainingSummary.weightedTruePositiveRate\n",
    "    fMeasure = trainingSummary.weightedFMeasure()\n",
    "    precision = trainingSummary.weightedPrecision\n",
    "    recall = trainingSummary.weightedRecall\n",
    "    \n",
    "    trainingOutput = \"Accuracy: \" + str(accuracy) + \"\\nFPR: \" + str(falsePositiveRate) + \"\\nTPR: \" + str(truePositiveRate) + \"\\nF-measure: \" + str(fMeasure) + \"\\nPrecision: \" + str(precision) + \"\\nRecall: \" + str(recall)\n",
    "    \n",
    "    print_to_output_file(trainingOutput)\n",
    "    \n",
    "def print_perf_eval(predictions):\n",
    "    predictions.filter(predictions['prediction'] == 0) \\\n",
    "    .select(\"probability\",\"output\",\"prediction\") \\\n",
    "    .orderBy(\"probability\", ascending=False) \\\n",
    "    .show(n = 10, truncate = 30)\n",
    "    \n",
    "    evaluator = BinaryClassificationEvaluator(labelCol = 'output')\n",
    "    print_to_output_file(\"Test Area Under ROC: \" + str(evaluator.evaluate(predictions, {evaluator.metricName: \"areaUnderROC\"})))"
   ]
  },
  {
   "cell_type": "markdown",
   "metadata": {},
   "source": [
    "#### Section - 4.2.2 - Logistic Regression"
   ]
  },
  {
   "cell_type": "code",
   "execution_count": 31,
   "metadata": {},
   "outputs": [],
   "source": [
    "lr = LogisticRegression(elasticNetParam=0.5, regParam=0.01, featuresCol=\"scaled_features\", labelCol=\"output\", \n",
    "                            weightCol=\"classWeights\", predictionCol=\"prediction\")\n",
    "    # Fit the model\n",
    "    lrModel = lr.fit(tn_data)\n",
    "\n",
    "    predict_train=lrModel.transform(tn_data)\n",
    "    #predict_test=lrModel.transform(ts_data)\n",
    "    \n",
    "    trainingSummary = lrModel.summary\n",
    "    \n",
    "    print_perf_summary(trainingSummary)"
   ]
  },
  {
   "cell_type": "code",
   "execution_count": null,
   "metadata": {},
   "outputs": [],
   "source": [
    "t0 = time.time()\n",
    "\n",
    "run_logistic_regression(train)\n",
    "\n",
    "t1 = time.time()\n",
    "print_to_output_file('Runtime - lr - ' + str(float(t1 - t0)))"
   ]
  },
  {
   "cell_type": "markdown",
   "metadata": {},
   "source": [
    "Performance Data for the entire dataset\n",
    "\n",
    "- Training set areaUnderROC: 0.5857525280951904\n",
    "- Test set areadUnderROC: 0.586126037418243\n",
    "\n",
    "\n",
    "- Accuracy: 0.4651128804659259\n",
    "- FPR: 0.35903086029442455\n",
    "- TPR: 0.4651128804659259\n",
    "- F-measure: 0.48464212442632626\n",
    "- Precision: 0.6709603205252765\n",
    "- Recall: 0.4651128804659259\n",
    "\n",
    "\n",
    "- Runtime - 5921.8369500637054 seconds "
   ]
  },
  {
   "cell_type": "markdown",
   "metadata": {},
   "source": [
    "With the entire dataset, for the LogisticRegression model, the error rate is much higher than the sample model which was tested during EDA. "
   ]
  },
  {
   "cell_type": "markdown",
   "metadata": {},
   "source": [
    "#### Section - 4.2.2 - RandomForest Classifier"
   ]
  },
  {
   "cell_type": "code",
   "execution_count": null,
   "metadata": {},
   "outputs": [],
   "source": [
    "def run_random_forest_algorithm(tn_data, ts_data):\n",
    "    rf = RandomForestClassifier(featuresCol=\"scaled_features\", labelCol=\"output\", predictionCol=\"prediction\")\n",
    "    rfModel = rf.fit(tn_data)\n",
    "    predictions = rfModel.transform(ts_data)\n",
    "    \n",
    "    print_perf_eval(predictions)"
   ]
  },
  {
   "cell_type": "code",
   "execution_count": null,
   "metadata": {},
   "outputs": [],
   "source": [
    "t0 = time.time()\n",
    "\n",
    "run_random_forest_algorithm(train, test)\n",
    "\n",
    "t1 = time.time()\n",
    "print_to_output_file('Runtime - rf' + str(float(t1 - t0)))"
   ]
  },
  {
   "cell_type": "markdown",
   "metadata": {},
   "source": []
  },
  {
   "cell_type": "markdown",
   "metadata": {},
   "source": [
    "This classifier shows poorer performance compare to the EDA model.\n",
    "\n",
    "- Test Area Under ROC: 0.6205110391100006\n",
    "- Runtime - 4993.300621509552 seconds"
   ]
  },
  {
   "cell_type": "markdown",
   "metadata": {},
   "source": [
    "#### Section - 4.2.3 - Gradient-Boosted Tree Classifier"
   ]
  },
  {
   "cell_type": "code",
   "execution_count": null,
   "metadata": {},
   "outputs": [],
   "source": [
    "def run_gradient_boost(tn_data, ts_data):\n",
    "    gbt = GBTClassifier(featuresCol=\"scaled_features\", labelCol=\"output\", predictionCol=\"prediction\")\n",
    "    gbtModel = gbt.fit(tn_data)\n",
    "    predictions = gbtModel.transform(ts_data)\n",
    "    \n",
    "    print_perf_eval(predictions)"
   ]
  },
  {
   "cell_type": "code",
   "execution_count": null,
   "metadata": {},
   "outputs": [],
   "source": [
    "t0 = time.time()\n",
    "\n",
    "run_gradient_boost(train, test)\n",
    "\n",
    "t1 = time.time()\n",
    "print_to_output_file('Runtime - gb' + str(float(t1 - t0)))"
   ]
  },
  {
   "cell_type": "markdown",
   "metadata": {},
   "source": [
    "This classifier performs better than RandomForest and LogisticRegression. However, the chance of correct classification is still low.\n",
    "\n",
    "- Test Area Under ROC: 0.6529670648604486\n",
    "- Runtime - 7405.279472589493 seconds"
   ]
  },
  {
   "cell_type": "markdown",
   "metadata": {},
   "source": [
    "#### Section - 4.2.4 - LinearSVC"
   ]
  },
  {
   "cell_type": "code",
   "execution_count": null,
   "metadata": {},
   "outputs": [],
   "source": [
    "def run_lsvc(tn_data, ts_data):\n",
    "    sv = LinearSVC(regParam=0.01,featuresCol=\"scaled_features\", labelCol=\"output\", predictionCol=\"prediction\")\n",
    "    svModel = sv.fit(tn_data)\n",
    "    predictions = svModel.transform(ts_data)\n",
    "    \n",
    "    evaluator = BinaryClassificationEvaluator(labelCol = 'output')\n",
    "    print_to_output_file(\"Test Area Under ROC: \" + str(evaluator.evaluate(predictions, {evaluator.metricName: \"areaUnderROC\"})))"
   ]
  },
  {
   "cell_type": "code",
   "execution_count": null,
   "metadata": {},
   "outputs": [],
   "source": [
    "t0 = time.time()\n",
    "\n",
    "run_lsvc(train, test)\n",
    "\n",
    "t1 = time.time()\n",
    "print_to_output_file('Runtime - lsvc - ' + str(float(t1 - t0)))"
   ]
  },
  {
   "cell_type": "markdown",
   "metadata": {},
   "source": [
    "The LinearSVC classifier turns out to be the poorest performer among all classifiers.\n",
    "\n",
    "- Test Area Under ROC: 0.5563562601488108  \n",
    "- Runtime - 4158.405479669571 seconds"
   ]
  },
  {
   "cell_type": "markdown",
   "metadata": {},
   "source": [
    "#### Section 4.3 - Comparison"
   ]
  },
  {
   "cell_type": "markdown",
   "metadata": {},
   "source": [
    "Gradient-Boosted Tree performs better than other classifiers. During EDA taking multiple samples and tuning a broad range of hyper-parameters should give better results. "
   ]
  },
  {
   "cell_type": "markdown",
   "metadata": {},
   "source": [
    "+------------------------------+------------+------------------+  \n",
    "|       Classifier             |ROC(test)   |Runtime(seconds)  |  \n",
    "+------------------------------+------------+------------------+  \n",
    "|LogisticRegression            |       0.586|              5921|  \n",
    "|RandomForest                  |       0.620|              4993|  \n",
    "|Gradient-Boosted Trees        |       0.652|              7405|  \n",
    "|Leaner Support Vector Machine |       0.556|              4158|  \n",
    "+------------------------------+------------+------------------+  "
   ]
  },
  {
   "cell_type": "markdown",
   "metadata": {},
   "source": [
    "#### Section 4.4 - System Configuration and Usage"
   ]
  },
  {
   "cell_type": "markdown",
   "metadata": {},
   "source": [
    "Google DataProc with 3 node cluster and each machine has 8 cores/30 GB memory."
   ]
  },
  {
   "cell_type": "code",
   "execution_count": 4,
   "metadata": {},
   "outputs": [
    {
     "data": {
      "image/png": "[encoded data removed]",
      "text/plain": [
       "<IPython.core.display.Image object>"
      ]
     },
     "execution_count": 4,
     "metadata": {},
     "output_type": "execute_result"
    }
   ],
   "source": [
    "Image(\"images/cloudresourceusage.png\")"
   ]
  },
  {
   "cell_type": "markdown",
   "metadata": {},
   "source": [
    "# __Section 5__ - Course Concepts"
   ]
  },
  {
   "cell_type": "markdown",
   "metadata": {},
   "source": [
    "The following are some key course concepts we implemented in our approach:\n",
    "\n",
    "1. Subsampling-in order to decrease runtimes for our EDA, we used a subsample(25%) of our data, which we thought would still be representative of the entire dataset. This cut down on our EDA run time more than 4 times when taking into account the extra communication required to partition more keys in the entire sample versus the subsample.\n",
    "\n",
    "2. Dense Representation of Data to minimize memory usage-We condensed the string column data into a 1 column numeric representation rather than a one-hot encoded version which would comprise multiple columns. In doing this, we drew from lessons in the course on condensing data into dense representations in order to convey information making the least use of memory to improve performance. This made the Spark jobs we ran faster, more scalable, and less likely to run out of memory.  \n",
    "\n",
    "3. Feature selection to improve predicting performance-we used a Chi-Square Feature Selector to ensure that we selected the most independent and least correlated features to have maximum predictive power. This improved the scalability of our learning algorithms and made our model more predictive by removing extraneous features that were well correlated with other features.\n",
    "\n",
    "4. Normalization of features to improve model performance-so that the training could occur in a balanced and stable manner, we normalized our features using the StandardScaler function of the MlLib module in Spark. This made our algorithms more stable and improved our runtimes by cutting down on the chance of errors in algorithm runs.\n",
    "\n",
    "5. Use of ensemble methods to address overfitting-We used ensemble methods such as Random Forests and Gradient Boosted Trees to address overfitting. This made our implementation less prone to overfitting. "
   ]
  },
  {
   "cell_type": "code",
   "execution_count": null,
   "metadata": {},
   "outputs": [],
   "source": []
  }
 ],
 "metadata": {
  "kernelspec": {
   "display_name": "Python 3",
   "language": "python",
   "name": "python3"
  },
  "language_info": {
   "codemirror_mode": {
    "name": "ipython",
    "version": 3
   },
   "file_extension": ".py",
   "mimetype": "text/x-python",
   "name": "python",
   "nbconvert_exporter": "python",
   "pygments_lexer": "ipython3",
   "version": "3.6.6"
  }
 },
 "nbformat": 4,
 "nbformat_minor": 2
}
